{
 "cells": [
  {
   "cell_type": "markdown",
   "metadata": {
    "collapsed": true
   },
   "source": [
    "# Image Classification\n",
    "In this project, you'll classify images from the [CIFAR-10 dataset](https://www.cs.toronto.edu/~kriz/cifar.html).  The dataset consists of airplanes, dogs, cats, and other objects. You'll preprocess the images, then train a convolutional neural network on all the samples. The images need to be normalized and the labels need to be one-hot encoded.  You'll get to apply what you learned and build a convolutional, max pooling, dropout, and fully connected layers.  At the end, you'll get to see your neural network's predictions on the sample images.\n",
    "## Get the Data\n",
    "Run the following cell to download the [CIFAR-10 dataset for python](https://www.cs.toronto.edu/~kriz/cifar-10-python.tar.gz)."
   ]
  },
  {
   "cell_type": "code",
   "execution_count": 1,
   "metadata": {},
   "outputs": [
    {
     "name": "stdout",
     "output_type": "stream",
     "text": [
      "All files found!\n"
     ]
    }
   ],
   "source": [
    "\"\"\"\n",
    "DON'T MODIFY ANYTHING IN THIS CELL THAT IS BELOW THIS LINE\n",
    "\"\"\"\n",
    "from urllib.request import urlretrieve\n",
    "from os.path import isfile, isdir\n",
    "from tqdm import tqdm\n",
    "import problem_unittests as tests\n",
    "import tarfile\n",
    "\n",
    "cifar10_dataset_folder_path = 'cifar-10-batches-py'\n",
    "\n",
    "class DLProgress(tqdm):\n",
    "    last_block = 0\n",
    "\n",
    "    def hook(self, block_num=1, block_size=1, total_size=None):\n",
    "        self.total = total_size\n",
    "        self.update((block_num - self.last_block) * block_size)\n",
    "        self.last_block = block_num\n",
    "\n",
    "if not isfile('cifar-10-python.tar.gz'):\n",
    "    with DLProgress(unit='B', unit_scale=True, miniters=1, desc='CIFAR-10 Dataset') as pbar:\n",
    "        urlretrieve(\n",
    "            'https://www.cs.toronto.edu/~kriz/cifar-10-python.tar.gz',\n",
    "            'cifar-10-python.tar.gz',\n",
    "            pbar.hook)\n",
    "\n",
    "if not isdir(cifar10_dataset_folder_path):\n",
    "    with tarfile.open('cifar-10-python.tar.gz') as tar:\n",
    "        tar.extractall()\n",
    "        tar.close()\n",
    "\n",
    "\n",
    "tests.test_folder_path(cifar10_dataset_folder_path)"
   ]
  },
  {
   "cell_type": "markdown",
   "metadata": {},
   "source": [
    "## Explore the Data\n",
    "The dataset is broken into batches to prevent your machine from running out of memory.  The CIFAR-10 dataset consists of 5 batches, named `data_batch_1`, `data_batch_2`, etc.. Each batch contains the labels and images that are one of the following:\n",
    "* airplane\n",
    "* automobile\n",
    "* bird\n",
    "* cat\n",
    "* deer\n",
    "* dog\n",
    "* frog\n",
    "* horse\n",
    "* ship\n",
    "* truck\n",
    "\n",
    "Understanding a dataset is part of making predictions on the data.  Play around with the code cell below by changing the `batch_id` and `sample_id`. The `batch_id` is the id for a batch (1-5). The `sample_id` is the id for a image and label pair in the batch.\n",
    "\n",
    "Ask yourself \"What are all possible labels?\", \"What is the range of values for the image data?\", \"Are the labels in order or random?\".  Answers to questions like these will help you preprocess the data and end up with better predictions."
   ]
  },
  {
   "cell_type": "code",
   "execution_count": 2,
   "metadata": {},
   "outputs": [
    {
     "name": "stdout",
     "output_type": "stream",
     "text": [
      "\n",
      "Stats of batch 1:\n",
      "Samples: 10000\n",
      "Label Counts: {0: 1005, 1: 974, 2: 1032, 3: 1016, 4: 999, 5: 937, 6: 1030, 7: 1001, 8: 1025, 9: 981}\n",
      "First 20 Labels: [6, 9, 9, 4, 1, 1, 2, 7, 8, 3, 4, 7, 7, 2, 9, 9, 9, 3, 2, 6]\n",
      "\n",
      "Example of Image 5:\n",
      "Image - Min Value: 0 Max Value: 252\n",
      "Image - Shape: (32, 32, 3)\n",
      "Label - Label Id: 1 Name: automobile\n"
     ]
    },
    {
     "data": {
      "image/png": "[encoded data removed]",
      "text/plain": [
       "<Figure size 432x288 with 1 Axes>"
      ]
     },
     "metadata": {
      "image/png": {
       "height": 250,
       "width": 253
      }
     },
     "output_type": "display_data"
    }
   ],
   "source": [
    "%matplotlib inline\n",
    "%config InlineBackend.figure_format = 'retina'\n",
    "\n",
    "import helper\n",
    "import numpy as np\n",
    "\n",
    "# Explore the dataset\n",
    "batch_id = 1\n",
    "sample_id = 5\n",
    "helper.display_stats(cifar10_dataset_folder_path, batch_id, sample_id)"
   ]
  },
  {
   "cell_type": "markdown",
   "metadata": {},
   "source": [
    "## Implement Preprocess Functions\n",
    "### Normalize\n",
    "In the cell below, implement the `normalize` function to take in image data, `x`, and return it as a normalized Numpy array. The values should be in the range of 0 to 1, inclusive.  The return object should be the same shape as `x`."
   ]
  },
  {
   "cell_type": "code",
   "execution_count": 3,
   "metadata": {},
   "outputs": [
    {
     "name": "stdout",
     "output_type": "stream",
     "text": [
      "Tests Passed\n"
     ]
    }
   ],
   "source": [
    "def normalize(x):\n",
    "    \"\"\"\n",
    "    Normalize a list of sample image data in the range of 0 to 1\n",
    "    : x: List of image data.  The image shape is (32, 32, 3)\n",
    "    : return: Numpy array of normalize data\n",
    "    \"\"\"\n",
    "    # TODO: Implement Function\n",
    "    x = x/255\n",
    "    return x\n",
    "\n",
    "\n",
    "\"\"\"\n",
    "DON'T MODIFY ANYTHING IN THIS CELL THAT IS BELOW THIS LINE\n",
    "\"\"\"\n",
    "tests.test_normalize(normalize)"
   ]
  },
  {
   "cell_type": "markdown",
   "metadata": {},
   "source": [
    "### One-hot encode\n",
    "Just like the previous code cell, you'll be implementing a function for preprocessing.  This time, you'll implement the `one_hot_encode` function. The input, `x`, are a list of labels.  Implement the function to return the list of labels as One-Hot encoded Numpy array.  The possible values for labels are 0 to 9. The one-hot encoding function should return the same encoding for each value between each call to `one_hot_encode`.  Make sure to save the map of encodings outside the function.\n",
    "\n",
    "**Hint:**\n",
    "\n",
    "Look into LabelBinarizer in the preprocessing module of sklearn."
   ]
  },
  {
   "cell_type": "code",
   "execution_count": 4,
   "metadata": {},
   "outputs": [
    {
     "name": "stdout",
     "output_type": "stream",
     "text": [
      "Tests Passed\n"
     ]
    }
   ],
   "source": [
    "from sklearn.preprocessing import LabelBinarizer\n",
    "\n",
    "def one_hot_encode(x):\n",
    "    \"\"\"\n",
    "    One hot encode a list of sample labels. Return a one-hot encoded vector for each label.\n",
    "    : x: List of sample Labels\n",
    "    : return: Numpy array of one-hot encoded labels\n",
    "    \"\"\"\n",
    "    # TODO: Implement Function\n",
    "    lb = LabelBinarizer()\n",
    "    lb.fit(x)\n",
    "    lb.classes_ = list(range(0, 10))\n",
    "    return lb.transform(x)\n",
    "\n",
    "\n",
    "\"\"\"\n",
    "DON'T MODIFY ANYTHING IN THIS CELL THAT IS BELOW THIS LINE\n",
    "\"\"\"\n",
    "tests.test_one_hot_encode(one_hot_encode)"
   ]
  },
  {
   "cell_type": "markdown",
   "metadata": {},
   "source": [
    "### Randomize Data\n",
    "As you saw from exploring the data above, the order of the samples are randomized.  It doesn't hurt to randomize it again, but you don't need to for this dataset."
   ]
  },
  {
   "cell_type": "markdown",
   "metadata": {},
   "source": [
    "## Preprocess all the data and save it\n",
    "Running the code cell below will preprocess all the CIFAR-10 data and save it to file. The code below also uses 10% of the training data for validation."
   ]
  },
  {
   "cell_type": "code",
   "execution_count": 5,
   "metadata": {},
   "outputs": [],
   "source": [
    "\"\"\"\n",
    "DON'T MODIFY ANYTHING IN THIS CELL\n",
    "\"\"\"\n",
    "# Preprocess Training, Validation, and Testing Data\n",
    "helper.preprocess_and_save_data(cifar10_dataset_folder_path, normalize, one_hot_encode)"
   ]
  },
  {
   "cell_type": "markdown",
   "metadata": {},
   "source": [
    "# Check Point\n",
    "This is your first checkpoint.  If you ever decide to come back to this notebook or have to restart the notebook, you can start from here.  The preprocessed data has been saved to disk."
   ]
  },
  {
   "cell_type": "code",
   "execution_count": 6,
   "metadata": {},
   "outputs": [],
   "source": [
    "\"\"\"\n",
    "DON'T MODIFY ANYTHING IN THIS CELL\n",
    "\"\"\"\n",
    "import pickle\n",
    "import problem_unittests as tests\n",
    "import helper\n",
    "\n",
    "# Load the Preprocessed Validation data\n",
    "valid_features, valid_labels = pickle.load(open('preprocess_validation.p', mode='rb'))"
   ]
  },
  {
   "cell_type": "markdown",
   "metadata": {},
   "source": [
    "## Build the network\n",
    "For the neural network, you'll build each layer into a function.  Most of the code you've seen has been outside of functions. To test your code more thoroughly, we require that you put each layer in a function.  This allows us to give you better feedback and test for simple mistakes using our unittests before you submit your project.\n",
    "\n",
    ">**Note:** If you're finding it hard to dedicate enough time for this course each week, we've provided a small shortcut to this part of the project. In the next couple of problems, you'll have the option to use classes from the [TensorFlow Layers](https://www.tensorflow.org/api_docs/python/tf/layers) or [TensorFlow Layers (contrib)](https://www.tensorflow.org/api_guides/python/contrib.layers) packages to build each layer, except the layers you build in the \"Convolutional and Max Pooling Layer\" section.  TF Layers is similar to Keras's and TFLearn's abstraction to layers, so it's easy to pickup.\n",
    "\n",
    ">However, if you would like to get the most out of this course, try to solve all the problems _without_ using anything from the TF Layers packages. You **can** still use classes from other packages that happen to have the same name as ones you find in TF Layers! For example, instead of using the TF Layers version of the `conv2d` class, [tf.layers.conv2d](https://www.tensorflow.org/api_docs/python/tf/layers/conv2d), you would want to use the TF Neural Network version of `conv2d`, [tf.nn.conv2d](https://www.tensorflow.org/api_docs/python/tf/nn/conv2d). \n",
    "\n",
    "Let's begin!\n",
    "\n",
    "### Input\n",
    "The neural network needs to read the image data, one-hot encoded labels, and dropout keep probability. Implement the following functions\n",
    "* Implement `neural_net_image_input`\n",
    " * Return a [TF Placeholder](https://www.tensorflow.org/api_docs/python/tf/placeholder)\n",
    " * Set the shape using `image_shape` with batch size set to `None`.\n",
    " * Name the TensorFlow placeholder \"x\" using the TensorFlow `name` parameter in the [TF Placeholder](https://www.tensorflow.org/api_docs/python/tf/placeholder).\n",
    "* Implement `neural_net_label_input`\n",
    " * Return a [TF Placeholder](https://www.tensorflow.org/api_docs/python/tf/placeholder)\n",
    " * Set the shape using `n_classes` with batch size set to `None`.\n",
    " * Name the TensorFlow placeholder \"y\" using the TensorFlow `name` parameter in the [TF Placeholder](https://www.tensorflow.org/api_docs/python/tf/placeholder).\n",
    "* Implement `neural_net_keep_prob_input`\n",
    " * Return a [TF Placeholder](https://www.tensorflow.org/api_docs/python/tf/placeholder) for dropout keep probability.\n",
    " * Name the TensorFlow placeholder \"keep_prob\" using the TensorFlow `name` parameter in the [TF Placeholder](https://www.tensorflow.org/api_docs/python/tf/placeholder).\n",
    "\n",
    "These names will be used at the end of the project to load your saved model.\n",
    "\n",
    "Note: `None` for shapes in TensorFlow allow for a dynamic size."
   ]
  },
  {
   "cell_type": "code",
   "execution_count": 19,
   "metadata": {},
   "outputs": [
    {
     "name": "stdout",
     "output_type": "stream",
     "text": [
      "Image Input Tests Passed.\n",
      "Label Input Tests Passed.\n",
      "Keep Prob Tests Passed.\n"
     ]
    }
   ],
   "source": [
    "import tensorflow as tf\n",
    "\n",
    "def neural_net_image_input(image_shape):\n",
    "    \"\"\"\n",
    "    Return a Tensor for a batch of image input\n",
    "    : image_shape: Shape of the images\n",
    "    : return: Tensor for image input.\n",
    "    \"\"\"\n",
    "    # TODO: Implement Function\n",
    "    return tf.placeholder(dtype=tf.float32, shape=[None, *image_shape], name=\"x\")\n",
    "\n",
    "\n",
    "def neural_net_label_input(n_classes):\n",
    "    \"\"\"\n",
    "    Return a Tensor for a batch of label input\n",
    "    : n_classes: Number of classes\n",
    "    : return: Tensor for label input.\n",
    "    \"\"\"\n",
    "    # TODO: Implement Function\n",
    "    return tf.placeholder(dtype=tf.float32, shape=[None, n_classes], name=\"y\")\n",
    "\n",
    "\n",
    "def neural_net_keep_prob_input():\n",
    "    \"\"\"\n",
    "    Return a Tensor for keep probability\n",
    "    : return: Tensor for keep probability.\n",
    "    \"\"\"\n",
    "    # TODO: Implement Function\n",
    "    return tf.placeholder(dtype=tf.float32, name=\"keep_prob\")\n",
    "\n",
    "\n",
    "\"\"\"\n",
    "DON'T MODIFY ANYTHING IN THIS CELL THAT IS BELOW THIS LINE\n",
    "\"\"\"\n",
    "tf.reset_default_graph()\n",
    "tests.test_nn_image_inputs(neural_net_image_input)\n",
    "tests.test_nn_label_inputs(neural_net_label_input)\n",
    "tests.test_nn_keep_prob_inputs(neural_net_keep_prob_input)"
   ]
  },
  {
   "cell_type": "markdown",
   "metadata": {},
   "source": [
    "### Convolution and Max Pooling Layer\n",
    "Convolution layers have a lot of success with images. For this code cell, you should implement the function `conv2d_maxpool` to apply convolution then max pooling:\n",
    "* Create the weight and bias using `conv_ksize`, `conv_num_outputs` and the shape of `x_tensor`.\n",
    "* Apply a convolution to `x_tensor` using weight and `conv_strides`.\n",
    " * We recommend you use same padding, but you're welcome to use any padding.\n",
    "* Add bias\n",
    "* Add a nonlinear activation to the convolution.\n",
    "* Apply Max Pooling using `pool_ksize` and `pool_strides`.\n",
    " * We recommend you use same padding, but you're welcome to use any padding.\n",
    "\n",
    "**Note:** You **can't** use [TensorFlow Layers](https://www.tensorflow.org/api_docs/python/tf/layers) or [TensorFlow Layers (contrib)](https://www.tensorflow.org/api_guides/python/contrib.layers) for **this** layer, but you can still use TensorFlow's [Neural Network](https://www.tensorflow.org/api_docs/python/tf/nn) package. You may still use the shortcut option for all the **other** layers.\n",
    "\n",
    "** Hint: **\n",
    "\n",
    "When unpacking values as an argument in Python, look into the [unpacking](https://docs.python.org/3/tutorial/controlflow.html#unpacking-argument-lists) operator. "
   ]
  },
  {
   "cell_type": "code",
   "execution_count": 53,
   "metadata": {},
   "outputs": [
    {
     "name": "stdout",
     "output_type": "stream",
     "text": [
      "Tests Passed\n"
     ]
    }
   ],
   "source": [
    "def conv2d_maxpool(x_tensor, conv_num_outputs, conv_ksize, conv_strides, pool_ksize, pool_strides):\n",
    "    \"\"\"\n",
    "    Apply convolution then max pooling to x_tensor\n",
    "    :param x_tensor: TensorFlow Tensor\n",
    "    :param conv_num_outputs: Number of outputs for the convolutional layer\n",
    "    :param conv_ksize: kernal size 2-D Tuple for the convolutional layer\n",
    "    :param conv_strides: Stride 2-D Tuple for convolution\n",
    "    :param pool_ksize: kernal size 2-D Tuple for pool\n",
    "    :param pool_strides: Stride 2-D Tuple for pool\n",
    "    : return: A tensor that represents convolution and max pooling of x_tensor\n",
    "    \"\"\"\n",
    "    # TODO: Implement Function\n",
    "    weight = tf.Variable(tf.truncated_normal(shape=[*conv_ksize, int(x_tensor.get_shape()[3]), conv_num_outputs], \n",
    "                                             mean=0, stddev=0.1))\n",
    "    bias = tf.Variable(tf.zeros(shape=conv_num_outputs))\n",
    "    \n",
    "    conv_layer = tf.nn.conv2d(x_tensor, weight, strides=[1, *conv_strides, 1], padding=\"SAME\")\n",
    "    conv_layer = tf.nn.bias_add(conv_layer, bias=bias)\n",
    "    conv_layer = tf.nn.relu(conv_layer)\n",
    "    conv_layer = tf.nn.max_pool(conv_layer, ksize=[1, *pool_ksize, 1], strides=[1, *pool_strides, 1], padding=\"SAME\")\n",
    "    return conv_layer \n",
    "\n",
    "\n",
    "\"\"\"\n",
    "DON'T MODIFY ANYTHING IN THIS CELL THAT IS BELOW THIS LINE\n",
    "\"\"\"\n",
    "tests.test_con_pool(conv2d_maxpool)"
   ]
  },
  {
   "cell_type": "markdown",
   "metadata": {},
   "source": [
    "### Flatten Layer\n",
    "Implement the `flatten` function to change the dimension of `x_tensor` from a 4-D tensor to a 2-D tensor.  The output should be the shape (*Batch Size*, *Flattened Image Size*). Shortcut option: you can use classes from the [TensorFlow Layers](https://www.tensorflow.org/api_docs/python/tf/layers) or [TensorFlow Layers (contrib)](https://www.tensorflow.org/api_guides/python/contrib.layers) packages for this layer. For more of a challenge, only use other TensorFlow packages."
   ]
  },
  {
   "cell_type": "code",
   "execution_count": 21,
   "metadata": {},
   "outputs": [
    {
     "name": "stdout",
     "output_type": "stream",
     "text": [
      "Tests Passed\n"
     ]
    }
   ],
   "source": [
    "def flatten(x_tensor):\n",
    "    \"\"\"\n",
    "    Flatten x_tensor to (Batch Size, Flattened Image Size)\n",
    "    : x_tensor: A tensor of size (Batch Size, ...), where ... are the image dimensions.\n",
    "    : return: A tensor of size (Batch Size, Flattened Image Size).\n",
    "    \"\"\"\n",
    "    # TODO: Implement Function\n",
    "    shape_as_list = x_tensor.get_shape().as_list()\n",
    "    flatten_dim = 1\n",
    "    for dim in shape_as_list[1:]:\n",
    "        flatten_dim *= dim\n",
    "    \n",
    "    x_flatten = tf.reshape(x_tensor, shape=[-1, flatten_dim])\n",
    "    return x_flatten\n",
    "    \n",
    "\n",
    "\n",
    "\"\"\"\n",
    "DON'T MODIFY ANYTHING IN THIS CELL THAT IS BELOW THIS LINE\n",
    "\"\"\"\n",
    "tests.test_flatten(flatten)"
   ]
  },
  {
   "cell_type": "code",
   "execution_count": 22,
   "metadata": {},
   "outputs": [],
   "source": [
    "#x = tf.placeholder(tf.float32, [None, 128])\n",
    "#o = 40"
   ]
  },
  {
   "cell_type": "code",
   "execution_count": 23,
   "metadata": {},
   "outputs": [],
   "source": [
    "#dimensions = x.get_shape().as_list()\n",
    "#print(dimensions)"
   ]
  },
  {
   "cell_type": "code",
   "execution_count": 24,
   "metadata": {},
   "outputs": [],
   "source": [
    "#shape = list((dimensions[-1],  ) + (o,  ))\n",
    "#print(shape)"
   ]
  },
  {
   "cell_type": "markdown",
   "metadata": {},
   "source": [
    "### Fully-Connected Layer\n",
    "Implement the `fully_conn` function to apply a fully connected layer to `x_tensor` with the shape (*Batch Size*, *num_outputs*). Shortcut option: you can use classes from the [TensorFlow Layers](https://www.tensorflow.org/api_docs/python/tf/layers) or [TensorFlow Layers (contrib)](https://www.tensorflow.org/api_guides/python/contrib.layers) packages for this layer. For more of a challenge, only use other TensorFlow packages."
   ]
  },
  {
   "cell_type": "code",
   "execution_count": 54,
   "metadata": {},
   "outputs": [
    {
     "name": "stdout",
     "output_type": "stream",
     "text": [
      "Tests Passed\n"
     ]
    }
   ],
   "source": [
    "def fully_conn(x_tensor, num_outputs):\n",
    "    \"\"\"\n",
    "    Apply a fully connected layer to x_tensor using weight and bias\n",
    "    : x_tensor: A 2-D tensor where the first dimension is batch size.\n",
    "    : num_outputs: The number of output that the new tensor should be.\n",
    "    : return: A 2-D tensor where the second dimension is num_outputs.\n",
    "    \"\"\"\n",
    "    # TODO: Implement Function\n",
    "    tensor_dim = x_tensor.get_shape().as_list()\n",
    "    shape = list((tensor_dim[-1], ) + (num_outputs, ))\n",
    "    weight = tf.Variable(tf.truncated_normal(shape, mean=0, stddev=0.1))\n",
    "    bias = tf.Variable(tf.zeros(num_outputs))\n",
    "    \n",
    "    x_fully_conn = tf.add(tf.matmul(x_tensor, weight), bias)\n",
    "    x_fully_conn = tf.nn.relu(x_fully_conn)\n",
    "    \n",
    "    \n",
    "    return x_fully_conn\n",
    "\n",
    "\n",
    "\"\"\"\n",
    "DON'T MODIFY ANYTHING IN THIS CELL THAT IS BELOW THIS LINE\n",
    "\"\"\"\n",
    "tests.test_fully_conn(fully_conn)"
   ]
  },
  {
   "cell_type": "markdown",
   "metadata": {},
   "source": [
    "### Output Layer\n",
    "Implement the `output` function to apply a fully connected layer to `x_tensor` with the shape (*Batch Size*, *num_outputs*). Shortcut option: you can use classes from the [TensorFlow Layers](https://www.tensorflow.org/api_docs/python/tf/layers) or [TensorFlow Layers (contrib)](https://www.tensorflow.org/api_guides/python/contrib.layers) packages for this layer. For more of a challenge, only use other TensorFlow packages.\n",
    "\n",
    "**Note:** Activation, softmax, or cross entropy should **not** be applied to this."
   ]
  },
  {
   "cell_type": "code",
   "execution_count": 56,
   "metadata": {},
   "outputs": [
    {
     "name": "stdout",
     "output_type": "stream",
     "text": [
      "Tests Passed\n"
     ]
    }
   ],
   "source": [
    "def output(x_tensor, num_outputs):\n",
    "    \"\"\"\n",
    "    Apply a output layer to x_tensor using weight and bias\n",
    "    : x_tensor: A 2-D tensor where the first dimension is batch size.\n",
    "    : num_outputs: The number of output that the new tensor should be.\n",
    "    : return: A 2-D tensor where the second dimension is num_outputs.\n",
    "    \"\"\"\n",
    "    # TODO: Implement Function\n",
    "    tensor_dim = x_tensor.get_shape().as_list()\n",
    "    shape = list((tensor_dim[-1], ) + (num_outputs, ))\n",
    "    weight = tf.Variable(tf.truncated_normal(shape, 0, 0.1))\n",
    "    bias = tf.Variable(tf.zeros(num_outputs))\n",
    "    \n",
    "    x_output = tf.add(tf.matmul(x_tensor, weight), bias)\n",
    "    return x_output\n",
    "\n",
    "\n",
    "\"\"\"\n",
    "DON'T MODIFY ANYTHING IN THIS CELL THAT IS BELOW THIS LINE\n",
    "\"\"\"\n",
    "tests.test_output(output)"
   ]
  },
  {
   "cell_type": "markdown",
   "metadata": {},
   "source": [
    "### Create Convolutional Model\n",
    "Implement the function `conv_net` to create a convolutional neural network model. The function takes in a batch of images, `x`, and outputs logits.  Use the layers you created above to create this model:\n",
    "\n",
    "* Apply 1, 2, or 3 Convolution and Max Pool layers\n",
    "* Apply a Flatten Layer\n",
    "* Apply 1, 2, or 3 Fully Connected Layers\n",
    "* Apply an Output Layer\n",
    "* Return the output\n",
    "* Apply [TensorFlow's Dropout](https://www.tensorflow.org/api_docs/python/tf/nn/dropout) to one or more layers in the model using `keep_prob`. "
   ]
  },
  {
   "cell_type": "code",
   "execution_count": 66,
   "metadata": {},
   "outputs": [
    {
     "name": "stdout",
     "output_type": "stream",
     "text": [
      "Neural Network Built!\n"
     ]
    }
   ],
   "source": [
    "def conv_net(x, keep_prob):\n",
    "    \"\"\"\n",
    "    Create a convolutional neural network model\n",
    "    : x: Placeholder tensor that holds image data.\n",
    "    : keep_prob: Placeholder tensor that hold dropout keep probability.\n",
    "    : return: Tensor that represents logits\n",
    "    \"\"\"\n",
    "    # TODO: Apply 1, 2, or 3 Convolution and Max Pool layers\n",
    "    #    Play around with different number of outputs, kernel size and stride\n",
    "    # Function Definition from Above:\n",
    "    #    conv2d_maxpool(x_tensor, conv_num_outputs, conv_ksize, conv_strides, pool_ksize, pool_strides)\n",
    "    \n",
    "    cnn_model = conv2d_maxpool(x, conv_num_outputs=18, conv_ksize=(4, 4), conv_strides=(1, 1), \n",
    "                               pool_ksize=(8, 8), pool_strides=(1, 1))\n",
    "    \n",
    "    cnn_model = tf.nn.dropout(cnn_model, keep_prob=keep_prob)\n",
    "    \n",
    "    \n",
    "\n",
    "    # TODO: Apply a Flatten Layer\n",
    "    # Function Definition from Above:\n",
    "    #   flatten(x_tensor)\n",
    "    \n",
    "    cnn_model = flatten(cnn_model)\n",
    "    \n",
    "\n",
    "    # TODO: Apply 1, 2, or 3 Fully Connected Layers\n",
    "    #    Play around with different number of outputs\n",
    "    # Function Definition from Above:\n",
    "    #   fully_conn(x_tensor, num_outputs)\n",
    "    \n",
    "    cnn_model = fully_conn(cnn_model, 256)\n",
    "    \n",
    "    cnn_model = tf.nn.dropout(cnn_model, keep_prob=keep_prob)\n",
    "    \n",
    "    \n",
    "    # TODO: Apply an Output Layer\n",
    "    #    Set this to the number of classes\n",
    "    # Function Definition from Above:\n",
    "    #   output(x_tensor, num_outputs)\n",
    "    \n",
    "    cnn_model = output(cnn_model, 10)\n",
    "    \n",
    "    \n",
    "    # TODO: return output\n",
    "    return cnn_model\n",
    "\n",
    "\n",
    "\"\"\"\n",
    "DON'T MODIFY ANYTHING IN THIS CELL THAT IS BELOW THIS LINE\n",
    "\"\"\"\n",
    "\n",
    "##############################\n",
    "## Build the Neural Network ##\n",
    "##############################\n",
    "\n",
    "# Remove previous weights, bias, inputs, etc..\n",
    "tf.reset_default_graph()\n",
    "\n",
    "# Inputs\n",
    "x = neural_net_image_input((32, 32, 3))\n",
    "y = neural_net_label_input(10)\n",
    "keep_prob = neural_net_keep_prob_input()\n",
    "\n",
    "# Model\n",
    "logits = conv_net(x, keep_prob)\n",
    "\n",
    "# Name logits Tensor, so that is can be loaded from disk after training\n",
    "logits = tf.identity(logits, name='logits')\n",
    "\n",
    "# Loss and Optimizer\n",
    "cost = tf.reduce_mean(tf.nn.softmax_cross_entropy_with_logits(logits=logits, labels=y))\n",
    "optimizer = tf.train.AdamOptimizer().minimize(cost)\n",
    "\n",
    "# Accuracy\n",
    "correct_pred = tf.equal(tf.argmax(logits, 1), tf.argmax(y, 1))\n",
    "accuracy = tf.reduce_mean(tf.cast(correct_pred, tf.float32), name='accuracy')\n",
    "\n",
    "tests.test_conv_net(conv_net)"
   ]
  },
  {
   "cell_type": "markdown",
   "metadata": {},
   "source": [
    "## Train the Neural Network\n",
    "### Single Optimization\n",
    "Implement the function `train_neural_network` to do a single optimization.  The optimization should use `optimizer` to optimize in `session` with a `feed_dict` of the following:\n",
    "* `x` for image input\n",
    "* `y` for labels\n",
    "* `keep_prob` for keep probability for dropout\n",
    "\n",
    "This function will be called for each batch, so `tf.global_variables_initializer()` has already been called.\n",
    "\n",
    "Note: Nothing needs to be returned. This function is only optimizing the neural network."
   ]
  },
  {
   "cell_type": "code",
   "execution_count": 67,
   "metadata": {},
   "outputs": [
    {
     "name": "stdout",
     "output_type": "stream",
     "text": [
      "Tests Passed\n"
     ]
    }
   ],
   "source": [
    "def train_neural_network(session, optimizer, keep_probability, feature_batch, label_batch):\n",
    "    \"\"\"\n",
    "    Optimize the session on a batch of images and labels\n",
    "    : session: Current TensorFlow session\n",
    "    : optimizer: TensorFlow optimizer function\n",
    "    : keep_probability: keep probability\n",
    "    : feature_batch: Batch of Numpy image data\n",
    "    : label_batch: Batch of Numpy label data\n",
    "    \"\"\"\n",
    "    # TODO: Implement Function\n",
    "    #pass\n",
    "    session.run(optimizer, feed_dict = {x: feature_batch, y: label_batch, keep_prob: keep_probability})\n",
    "\n",
    "\n",
    "\"\"\"\n",
    "DON'T MODIFY ANYTHING IN THIS CELL THAT IS BELOW THIS LINE\n",
    "\"\"\"\n",
    "tests.test_train_nn(train_neural_network)"
   ]
  },
  {
   "cell_type": "markdown",
   "metadata": {},
   "source": [
    "### Show Stats\n",
    "Implement the function `print_stats` to print loss and validation accuracy.  Use the global variables `valid_features` and `valid_labels` to calculate validation accuracy.  Use a keep probability of `1.0` to calculate the loss and validation accuracy."
   ]
  },
  {
   "cell_type": "code",
   "execution_count": 68,
   "metadata": {},
   "outputs": [],
   "source": [
    "def print_stats(session, feature_batch, label_batch, cost, accuracy):\n",
    "    \"\"\"\n",
    "    Print information about loss and validation accuracy\n",
    "    : session: Current TensorFlow session\n",
    "    : feature_batch: Batch of Numpy image data\n",
    "    : label_batch: Batch of Numpy label data\n",
    "    : cost: TensorFlow cost function\n",
    "    : accuracy: TensorFlow accuracy function\n",
    "    \"\"\"\n",
    "    # TODO: Implement Function\n",
    "    #pass\n",
    "    loss = session.run(cost, feed_dict = {x: feature_batch, y: label_batch, keep_prob: 1.})\n",
    "    valid_acc = session.run(accuracy, feed_dict = {x: valid_features, y: valid_labels, keep_prob: 1.})\n",
    "    \n",
    "    print('Loss: {:>10.4f} Validation Accuracy: {:.6f}'.format(loss, valid_acc))"
   ]
  },
  {
   "cell_type": "markdown",
   "metadata": {},
   "source": [
    "### Hyperparameters\n",
    "Tune the following parameters:\n",
    "* Set `epochs` to the number of iterations until the network stops learning or start overfitting\n",
    "* Set `batch_size` to the highest number that your machine has memory for.  Most people set them to common sizes of memory:\n",
    " * 64\n",
    " * 128\n",
    " * 256\n",
    " * ...\n",
    "* Set `keep_probability` to the probability of keeping a node using dropout"
   ]
  },
  {
   "cell_type": "code",
   "execution_count": 70,
   "metadata": {},
   "outputs": [],
   "source": [
    "# TODO: Tune Parameters\n",
    "epochs = 50\n",
    "batch_size = 512\n",
    "keep_probability = 0.8"
   ]
  },
  {
   "cell_type": "markdown",
   "metadata": {},
   "source": [
    "### Train on a Single CIFAR-10 Batch\n",
    "Instead of training the neural network on all the CIFAR-10 batches of data, let's use a single batch. This should save time while you iterate on the model to get a better accuracy.  Once the final validation accuracy is 50% or greater, run the model on all the data in the next section."
   ]
  },
  {
   "cell_type": "code",
   "execution_count": 71,
   "metadata": {},
   "outputs": [
    {
     "name": "stdout",
     "output_type": "stream",
     "text": [
      "Checking the Training on a Single Batch...\n",
      "Epoch  1, CIFAR-10 Batch 1:  Loss:     2.2882 Validation Accuracy: 0.134200\n",
      "Epoch  2, CIFAR-10 Batch 1:  Loss:     2.2187 Validation Accuracy: 0.190200\n",
      "Epoch  3, CIFAR-10 Batch 1:  Loss:     2.0812 Validation Accuracy: 0.279000\n",
      "Epoch  4, CIFAR-10 Batch 1:  Loss:     1.8965 Validation Accuracy: 0.354800\n",
      "Epoch  5, CIFAR-10 Batch 1:  Loss:     1.7738 Validation Accuracy: 0.377000\n",
      "Epoch  6, CIFAR-10 Batch 1:  Loss:     1.6770 Validation Accuracy: 0.401800\n",
      "Epoch  7, CIFAR-10 Batch 1:  Loss:     1.6016 Validation Accuracy: 0.420600\n",
      "Epoch  8, CIFAR-10 Batch 1:  Loss:     1.5768 Validation Accuracy: 0.436200\n",
      "Epoch  9, CIFAR-10 Batch 1:  Loss:     1.5059 Validation Accuracy: 0.459000\n",
      "Epoch 10, CIFAR-10 Batch 1:  Loss:     1.4621 Validation Accuracy: 0.468800\n",
      "Epoch 11, CIFAR-10 Batch 1:  Loss:     1.4259 Validation Accuracy: 0.473800\n",
      "Epoch 12, CIFAR-10 Batch 1:  Loss:     1.3904 Validation Accuracy: 0.487400\n",
      "Epoch 13, CIFAR-10 Batch 1:  Loss:     1.3534 Validation Accuracy: 0.502400\n",
      "Epoch 14, CIFAR-10 Batch 1:  Loss:     1.3294 Validation Accuracy: 0.508200\n",
      "Epoch 15, CIFAR-10 Batch 1:  Loss:     1.2911 Validation Accuracy: 0.503800\n",
      "Epoch 16, CIFAR-10 Batch 1:  Loss:     1.2791 Validation Accuracy: 0.509400\n",
      "Epoch 17, CIFAR-10 Batch 1:  Loss:     1.2409 Validation Accuracy: 0.519600\n",
      "Epoch 18, CIFAR-10 Batch 1:  Loss:     1.2043 Validation Accuracy: 0.529800\n",
      "Epoch 19, CIFAR-10 Batch 1:  Loss:     1.1732 Validation Accuracy: 0.530200\n",
      "Epoch 20, CIFAR-10 Batch 1:  Loss:     1.1596 Validation Accuracy: 0.534000\n",
      "Epoch 21, CIFAR-10 Batch 1:  Loss:     1.1483 Validation Accuracy: 0.540600\n",
      "Epoch 22, CIFAR-10 Batch 1:  Loss:     1.0993 Validation Accuracy: 0.544200\n",
      "Epoch 23, CIFAR-10 Batch 1:  Loss:     1.0760 Validation Accuracy: 0.547800\n",
      "Epoch 24, CIFAR-10 Batch 1:  Loss:     1.0633 Validation Accuracy: 0.545800\n",
      "Epoch 25, CIFAR-10 Batch 1:  Loss:     1.0328 Validation Accuracy: 0.542800\n",
      "Epoch 26, CIFAR-10 Batch 1:  Loss:     1.0246 Validation Accuracy: 0.550400\n",
      "Epoch 27, CIFAR-10 Batch 1:  Loss:     0.9767 Validation Accuracy: 0.557800\n",
      "Epoch 28, CIFAR-10 Batch 1:  Loss:     0.9798 Validation Accuracy: 0.557000\n",
      "Epoch 29, CIFAR-10 Batch 1:  Loss:     0.9617 Validation Accuracy: 0.556800\n",
      "Epoch 30, CIFAR-10 Batch 1:  Loss:     0.9145 Validation Accuracy: 0.562000\n",
      "Epoch 31, CIFAR-10 Batch 1:  Loss:     0.9203 Validation Accuracy: 0.559000\n",
      "Epoch 32, CIFAR-10 Batch 1:  Loss:     0.8939 Validation Accuracy: 0.569400\n",
      "Epoch 33, CIFAR-10 Batch 1:  Loss:     0.8727 Validation Accuracy: 0.558000\n",
      "Epoch 34, CIFAR-10 Batch 1:  Loss:     0.8636 Validation Accuracy: 0.569000\n",
      "Epoch 35, CIFAR-10 Batch 1:  Loss:     0.8242 Validation Accuracy: 0.575400\n",
      "Epoch 36, CIFAR-10 Batch 1:  Loss:     0.8323 Validation Accuracy: 0.573600\n",
      "Epoch 37, CIFAR-10 Batch 1:  Loss:     0.8152 Validation Accuracy: 0.572600\n",
      "Epoch 38, CIFAR-10 Batch 1:  Loss:     0.7853 Validation Accuracy: 0.573600\n",
      "Epoch 39, CIFAR-10 Batch 1:  Loss:     0.7617 Validation Accuracy: 0.575800\n",
      "Epoch 40, CIFAR-10 Batch 1:  Loss:     0.7478 Validation Accuracy: 0.581200\n",
      "Epoch 41, CIFAR-10 Batch 1:  Loss:     0.7083 Validation Accuracy: 0.581400\n",
      "Epoch 42, CIFAR-10 Batch 1:  Loss:     0.7070 Validation Accuracy: 0.581200\n",
      "Epoch 43, CIFAR-10 Batch 1:  Loss:     0.6823 Validation Accuracy: 0.586400\n",
      "Epoch 44, CIFAR-10 Batch 1:  Loss:     0.6680 Validation Accuracy: 0.582200\n",
      "Epoch 45, CIFAR-10 Batch 1:  Loss:     0.6605 Validation Accuracy: 0.582400\n",
      "Epoch 46, CIFAR-10 Batch 1:  Loss:     0.6533 Validation Accuracy: 0.579600\n",
      "Epoch 47, CIFAR-10 Batch 1:  Loss:     0.6334 Validation Accuracy: 0.582200\n",
      "Epoch 48, CIFAR-10 Batch 1:  Loss:     0.6256 Validation Accuracy: 0.586600\n",
      "Epoch 49, CIFAR-10 Batch 1:  Loss:     0.6298 Validation Accuracy: 0.572200\n",
      "Epoch 50, CIFAR-10 Batch 1:  Loss:     0.5967 Validation Accuracy: 0.582200\n"
     ]
    }
   ],
   "source": [
    "\"\"\"\n",
    "DON'T MODIFY ANYTHING IN THIS CELL\n",
    "\"\"\"\n",
    "print('Checking the Training on a Single Batch...')\n",
    "with tf.Session() as sess:\n",
    "    # Initializing the variables\n",
    "    sess.run(tf.global_variables_initializer())\n",
    "    \n",
    "    # Training cycle\n",
    "    for epoch in range(epochs):\n",
    "        batch_i = 1\n",
    "        for batch_features, batch_labels in helper.load_preprocess_training_batch(batch_i, batch_size):\n",
    "            train_neural_network(sess, optimizer, keep_probability, batch_features, batch_labels)\n",
    "        print('Epoch {:>2}, CIFAR-10 Batch {}:  '.format(epoch + 1, batch_i), end='')\n",
    "        print_stats(sess, batch_features, batch_labels, cost, accuracy)"
   ]
  },
  {
   "cell_type": "markdown",
   "metadata": {},
   "source": [
    "### Fully Train the Model\n",
    "Now that you got a good accuracy with a single CIFAR-10 batch, try it with all five batches."
   ]
  },
  {
   "cell_type": "code",
   "execution_count": 72,
   "metadata": {},
   "outputs": [
    {
     "name": "stdout",
     "output_type": "stream",
     "text": [
      "Training...\n",
      "Epoch  1, CIFAR-10 Batch 1:  Loss:     2.2644 Validation Accuracy: 0.129200\n",
      "Epoch  1, CIFAR-10 Batch 2:  Loss:     2.1885 Validation Accuracy: 0.202800\n",
      "Epoch  1, CIFAR-10 Batch 3:  Loss:     1.9404 Validation Accuracy: 0.302600\n",
      "Epoch  1, CIFAR-10 Batch 4:  Loss:     1.7014 Validation Accuracy: 0.368800\n",
      "Epoch  1, CIFAR-10 Batch 5:  Loss:     1.6855 Validation Accuracy: 0.399800\n",
      "Epoch  2, CIFAR-10 Batch 1:  Loss:     1.6491 Validation Accuracy: 0.436600\n",
      "Epoch  2, CIFAR-10 Batch 2:  Loss:     1.5267 Validation Accuracy: 0.432000\n",
      "Epoch  2, CIFAR-10 Batch 3:  Loss:     1.4254 Validation Accuracy: 0.470200\n",
      "Epoch  2, CIFAR-10 Batch 4:  Loss:     1.3189 Validation Accuracy: 0.482200\n",
      "Epoch  2, CIFAR-10 Batch 5:  Loss:     1.4185 Validation Accuracy: 0.482200\n",
      "Epoch  3, CIFAR-10 Batch 1:  Loss:     1.4231 Validation Accuracy: 0.503400\n",
      "Epoch  3, CIFAR-10 Batch 2:  Loss:     1.3350 Validation Accuracy: 0.505400\n",
      "Epoch  3, CIFAR-10 Batch 3:  Loss:     1.2462 Validation Accuracy: 0.517000\n",
      "Epoch  3, CIFAR-10 Batch 4:  Loss:     1.1914 Validation Accuracy: 0.527600\n",
      "Epoch  3, CIFAR-10 Batch 5:  Loss:     1.2603 Validation Accuracy: 0.532000\n",
      "Epoch  4, CIFAR-10 Batch 1:  Loss:     1.2917 Validation Accuracy: 0.534800\n",
      "Epoch  4, CIFAR-10 Batch 2:  Loss:     1.2353 Validation Accuracy: 0.554600\n",
      "Epoch  4, CIFAR-10 Batch 3:  Loss:     1.1498 Validation Accuracy: 0.549600\n",
      "Epoch  4, CIFAR-10 Batch 4:  Loss:     1.1056 Validation Accuracy: 0.557400\n",
      "Epoch  4, CIFAR-10 Batch 5:  Loss:     1.1755 Validation Accuracy: 0.556800\n",
      "Epoch  5, CIFAR-10 Batch 1:  Loss:     1.1886 Validation Accuracy: 0.563800\n",
      "Epoch  5, CIFAR-10 Batch 2:  Loss:     1.1474 Validation Accuracy: 0.582000\n",
      "Epoch  5, CIFAR-10 Batch 3:  Loss:     1.0567 Validation Accuracy: 0.579400\n",
      "Epoch  5, CIFAR-10 Batch 4:  Loss:     1.0311 Validation Accuracy: 0.581200\n",
      "Epoch  5, CIFAR-10 Batch 5:  Loss:     1.0914 Validation Accuracy: 0.580000\n",
      "Epoch  6, CIFAR-10 Batch 1:  Loss:     1.1348 Validation Accuracy: 0.583600\n",
      "Epoch  6, CIFAR-10 Batch 2:  Loss:     1.1022 Validation Accuracy: 0.599000\n",
      "Epoch  6, CIFAR-10 Batch 3:  Loss:     1.0238 Validation Accuracy: 0.589200\n",
      "Epoch  6, CIFAR-10 Batch 4:  Loss:     0.9768 Validation Accuracy: 0.597000\n",
      "Epoch  6, CIFAR-10 Batch 5:  Loss:     1.0384 Validation Accuracy: 0.601000\n",
      "Epoch  7, CIFAR-10 Batch 1:  Loss:     1.0904 Validation Accuracy: 0.605800\n",
      "Epoch  7, CIFAR-10 Batch 2:  Loss:     1.0587 Validation Accuracy: 0.601000\n",
      "Epoch  7, CIFAR-10 Batch 3:  Loss:     0.9679 Validation Accuracy: 0.604400\n",
      "Epoch  7, CIFAR-10 Batch 4:  Loss:     0.9291 Validation Accuracy: 0.613000\n",
      "Epoch  7, CIFAR-10 Batch 5:  Loss:     0.9987 Validation Accuracy: 0.611000\n",
      "Epoch  8, CIFAR-10 Batch 1:  Loss:     1.0440 Validation Accuracy: 0.609800\n",
      "Epoch  8, CIFAR-10 Batch 2:  Loss:     1.0102 Validation Accuracy: 0.616800\n",
      "Epoch  8, CIFAR-10 Batch 3:  Loss:     0.9480 Validation Accuracy: 0.614600\n",
      "Epoch  8, CIFAR-10 Batch 4:  Loss:     0.9023 Validation Accuracy: 0.622200\n",
      "Epoch  8, CIFAR-10 Batch 5:  Loss:     0.9544 Validation Accuracy: 0.621400\n",
      "Epoch  9, CIFAR-10 Batch 1:  Loss:     1.0111 Validation Accuracy: 0.616200\n",
      "Epoch  9, CIFAR-10 Batch 2:  Loss:     0.9766 Validation Accuracy: 0.626600\n",
      "Epoch  9, CIFAR-10 Batch 3:  Loss:     0.8989 Validation Accuracy: 0.620400\n",
      "Epoch  9, CIFAR-10 Batch 4:  Loss:     0.8881 Validation Accuracy: 0.620600\n",
      "Epoch  9, CIFAR-10 Batch 5:  Loss:     0.8963 Validation Accuracy: 0.626000\n",
      "Epoch 10, CIFAR-10 Batch 1:  Loss:     0.9680 Validation Accuracy: 0.629600\n",
      "Epoch 10, CIFAR-10 Batch 2:  Loss:     0.9374 Validation Accuracy: 0.626000\n",
      "Epoch 10, CIFAR-10 Batch 3:  Loss:     0.8848 Validation Accuracy: 0.626200\n",
      "Epoch 10, CIFAR-10 Batch 4:  Loss:     0.8451 Validation Accuracy: 0.631600\n",
      "Epoch 10, CIFAR-10 Batch 5:  Loss:     0.8591 Validation Accuracy: 0.634800\n",
      "Epoch 11, CIFAR-10 Batch 1:  Loss:     0.9419 Validation Accuracy: 0.639800\n",
      "Epoch 11, CIFAR-10 Batch 2:  Loss:     0.9146 Validation Accuracy: 0.635600\n",
      "Epoch 11, CIFAR-10 Batch 3:  Loss:     0.8497 Validation Accuracy: 0.635800\n",
      "Epoch 11, CIFAR-10 Batch 4:  Loss:     0.8082 Validation Accuracy: 0.638800\n",
      "Epoch 11, CIFAR-10 Batch 5:  Loss:     0.8392 Validation Accuracy: 0.642200\n",
      "Epoch 12, CIFAR-10 Batch 1:  Loss:     0.9418 Validation Accuracy: 0.634000\n",
      "Epoch 12, CIFAR-10 Batch 2:  Loss:     0.8770 Validation Accuracy: 0.648600\n",
      "Epoch 12, CIFAR-10 Batch 3:  Loss:     0.8228 Validation Accuracy: 0.642600\n",
      "Epoch 12, CIFAR-10 Batch 4:  Loss:     0.7846 Validation Accuracy: 0.649200\n",
      "Epoch 12, CIFAR-10 Batch 5:  Loss:     0.8043 Validation Accuracy: 0.641000\n",
      "Epoch 13, CIFAR-10 Batch 1:  Loss:     0.9061 Validation Accuracy: 0.642000\n",
      "Epoch 13, CIFAR-10 Batch 2:  Loss:     0.8891 Validation Accuracy: 0.635400\n",
      "Epoch 13, CIFAR-10 Batch 3:  Loss:     0.8191 Validation Accuracy: 0.641000\n",
      "Epoch 13, CIFAR-10 Batch 4:  Loss:     0.7659 Validation Accuracy: 0.651800\n",
      "Epoch 13, CIFAR-10 Batch 5:  Loss:     0.7690 Validation Accuracy: 0.645600\n",
      "Epoch 14, CIFAR-10 Batch 1:  Loss:     0.8708 Validation Accuracy: 0.651600\n",
      "Epoch 14, CIFAR-10 Batch 2:  Loss:     0.8250 Validation Accuracy: 0.654800\n",
      "Epoch 14, CIFAR-10 Batch 3:  Loss:     0.7847 Validation Accuracy: 0.653200\n",
      "Epoch 14, CIFAR-10 Batch 4:  Loss:     0.7527 Validation Accuracy: 0.651800\n",
      "Epoch 14, CIFAR-10 Batch 5:  Loss:     0.7665 Validation Accuracy: 0.645800\n",
      "Epoch 15, CIFAR-10 Batch 1:  Loss:     0.8517 Validation Accuracy: 0.650800\n",
      "Epoch 15, CIFAR-10 Batch 2:  Loss:     0.8100 Validation Accuracy: 0.647600\n",
      "Epoch 15, CIFAR-10 Batch 3:  Loss:     0.7772 Validation Accuracy: 0.651600\n",
      "Epoch 15, CIFAR-10 Batch 4:  Loss:     0.7318 Validation Accuracy: 0.657000\n",
      "Epoch 15, CIFAR-10 Batch 5:  Loss:     0.7170 Validation Accuracy: 0.657200\n",
      "Epoch 16, CIFAR-10 Batch 1:  Loss:     0.8381 Validation Accuracy: 0.657600\n",
      "Epoch 16, CIFAR-10 Batch 2:  Loss:     0.7903 Validation Accuracy: 0.654400\n",
      "Epoch 16, CIFAR-10 Batch 3:  Loss:     0.7671 Validation Accuracy: 0.645800\n",
      "Epoch 16, CIFAR-10 Batch 4:  Loss:     0.7155 Validation Accuracy: 0.661000\n",
      "Epoch 16, CIFAR-10 Batch 5:  Loss:     0.6846 Validation Accuracy: 0.658200\n",
      "Epoch 17, CIFAR-10 Batch 1:  Loss:     0.8197 Validation Accuracy: 0.655400\n",
      "Epoch 17, CIFAR-10 Batch 2:  Loss:     0.7518 Validation Accuracy: 0.662800\n",
      "Epoch 17, CIFAR-10 Batch 3:  Loss:     0.7351 Validation Accuracy: 0.654400\n",
      "Epoch 17, CIFAR-10 Batch 4:  Loss:     0.6957 Validation Accuracy: 0.663200\n",
      "Epoch 17, CIFAR-10 Batch 5:  Loss:     0.6630 Validation Accuracy: 0.661600\n",
      "Epoch 18, CIFAR-10 Batch 1:  Loss:     0.7869 Validation Accuracy: 0.666000\n",
      "Epoch 18, CIFAR-10 Batch 2:  Loss:     0.7652 Validation Accuracy: 0.661600\n",
      "Epoch 18, CIFAR-10 Batch 3:  Loss:     0.7151 Validation Accuracy: 0.665800\n",
      "Epoch 18, CIFAR-10 Batch 4:  Loss:     0.6645 Validation Accuracy: 0.669800\n",
      "Epoch 18, CIFAR-10 Batch 5:  Loss:     0.6492 Validation Accuracy: 0.663800\n",
      "Epoch 19, CIFAR-10 Batch 1:  Loss:     0.7742 Validation Accuracy: 0.668200\n",
      "Epoch 19, CIFAR-10 Batch 2:  Loss:     0.7424 Validation Accuracy: 0.663600\n",
      "Epoch 19, CIFAR-10 Batch 3:  Loss:     0.7110 Validation Accuracy: 0.658400\n",
      "Epoch 19, CIFAR-10 Batch 4:  Loss:     0.6661 Validation Accuracy: 0.666600\n",
      "Epoch 19, CIFAR-10 Batch 5:  Loss:     0.6270 Validation Accuracy: 0.666800\n",
      "Epoch 20, CIFAR-10 Batch 1:  Loss:     0.7560 Validation Accuracy: 0.666800\n",
      "Epoch 20, CIFAR-10 Batch 2:  Loss:     0.6977 Validation Accuracy: 0.672200\n",
      "Epoch 20, CIFAR-10 Batch 3:  Loss:     0.6777 Validation Accuracy: 0.664400\n",
      "Epoch 20, CIFAR-10 Batch 4:  Loss:     0.6530 Validation Accuracy: 0.667200\n",
      "Epoch 20, CIFAR-10 Batch 5:  Loss:     0.6147 Validation Accuracy: 0.668800\n",
      "Epoch 21, CIFAR-10 Batch 1:  Loss:     0.7357 Validation Accuracy: 0.662200\n",
      "Epoch 21, CIFAR-10 Batch 2:  Loss:     0.6610 Validation Accuracy: 0.674000\n",
      "Epoch 21, CIFAR-10 Batch 3:  Loss:     0.6675 Validation Accuracy: 0.671200\n",
      "Epoch 21, CIFAR-10 Batch 4:  Loss:     0.6479 Validation Accuracy: 0.667000\n",
      "Epoch 21, CIFAR-10 Batch 5:  Loss:     0.5918 Validation Accuracy: 0.674200\n",
      "Epoch 22, CIFAR-10 Batch 1:  Loss:     0.7339 Validation Accuracy: 0.668600\n",
      "Epoch 22, CIFAR-10 Batch 2:  Loss:     0.6552 Validation Accuracy: 0.675000\n"
     ]
    },
    {
     "name": "stdout",
     "output_type": "stream",
     "text": [
      "Epoch 22, CIFAR-10 Batch 3:  Loss:     0.6719 Validation Accuracy: 0.670200\n",
      "Epoch 22, CIFAR-10 Batch 4:  Loss:     0.6358 Validation Accuracy: 0.672600\n",
      "Epoch 22, CIFAR-10 Batch 5:  Loss:     0.5853 Validation Accuracy: 0.670400\n",
      "Epoch 23, CIFAR-10 Batch 1:  Loss:     0.7160 Validation Accuracy: 0.665800\n",
      "Epoch 23, CIFAR-10 Batch 2:  Loss:     0.6341 Validation Accuracy: 0.674200\n",
      "Epoch 23, CIFAR-10 Batch 3:  Loss:     0.6480 Validation Accuracy: 0.671200\n",
      "Epoch 23, CIFAR-10 Batch 4:  Loss:     0.6203 Validation Accuracy: 0.670600\n",
      "Epoch 23, CIFAR-10 Batch 5:  Loss:     0.5558 Validation Accuracy: 0.669800\n",
      "Epoch 24, CIFAR-10 Batch 1:  Loss:     0.7221 Validation Accuracy: 0.669200\n",
      "Epoch 24, CIFAR-10 Batch 2:  Loss:     0.6050 Validation Accuracy: 0.678600\n",
      "Epoch 24, CIFAR-10 Batch 3:  Loss:     0.6160 Validation Accuracy: 0.674400\n",
      "Epoch 24, CIFAR-10 Batch 4:  Loss:     0.5911 Validation Accuracy: 0.674200\n",
      "Epoch 24, CIFAR-10 Batch 5:  Loss:     0.5472 Validation Accuracy: 0.674800\n",
      "Epoch 25, CIFAR-10 Batch 1:  Loss:     0.6787 Validation Accuracy: 0.664400\n",
      "Epoch 25, CIFAR-10 Batch 2:  Loss:     0.6136 Validation Accuracy: 0.674800\n",
      "Epoch 25, CIFAR-10 Batch 3:  Loss:     0.6123 Validation Accuracy: 0.679000\n",
      "Epoch 25, CIFAR-10 Batch 4:  Loss:     0.5875 Validation Accuracy: 0.676200\n",
      "Epoch 25, CIFAR-10 Batch 5:  Loss:     0.5355 Validation Accuracy: 0.669400\n",
      "Epoch 26, CIFAR-10 Batch 1:  Loss:     0.6747 Validation Accuracy: 0.674200\n",
      "Epoch 26, CIFAR-10 Batch 2:  Loss:     0.6012 Validation Accuracy: 0.673400\n",
      "Epoch 26, CIFAR-10 Batch 3:  Loss:     0.6193 Validation Accuracy: 0.677400\n",
      "Epoch 26, CIFAR-10 Batch 4:  Loss:     0.5632 Validation Accuracy: 0.677600\n",
      "Epoch 26, CIFAR-10 Batch 5:  Loss:     0.5088 Validation Accuracy: 0.679200\n",
      "Epoch 27, CIFAR-10 Batch 1:  Loss:     0.6703 Validation Accuracy: 0.671800\n",
      "Epoch 27, CIFAR-10 Batch 2:  Loss:     0.5814 Validation Accuracy: 0.678600\n",
      "Epoch 27, CIFAR-10 Batch 3:  Loss:     0.5881 Validation Accuracy: 0.672400\n",
      "Epoch 27, CIFAR-10 Batch 4:  Loss:     0.5533 Validation Accuracy: 0.676400\n",
      "Epoch 27, CIFAR-10 Batch 5:  Loss:     0.5178 Validation Accuracy: 0.678000\n",
      "Epoch 28, CIFAR-10 Batch 1:  Loss:     0.6581 Validation Accuracy: 0.665800\n",
      "Epoch 28, CIFAR-10 Batch 2:  Loss:     0.5779 Validation Accuracy: 0.678200\n",
      "Epoch 28, CIFAR-10 Batch 3:  Loss:     0.5900 Validation Accuracy: 0.678600\n",
      "Epoch 28, CIFAR-10 Batch 4:  Loss:     0.5390 Validation Accuracy: 0.680000\n",
      "Epoch 28, CIFAR-10 Batch 5:  Loss:     0.5001 Validation Accuracy: 0.672800\n",
      "Epoch 29, CIFAR-10 Batch 1:  Loss:     0.6385 Validation Accuracy: 0.676000\n",
      "Epoch 29, CIFAR-10 Batch 2:  Loss:     0.5458 Validation Accuracy: 0.685000\n",
      "Epoch 29, CIFAR-10 Batch 3:  Loss:     0.5611 Validation Accuracy: 0.680600\n",
      "Epoch 29, CIFAR-10 Batch 4:  Loss:     0.5502 Validation Accuracy: 0.677400\n",
      "Epoch 29, CIFAR-10 Batch 5:  Loss:     0.4896 Validation Accuracy: 0.678400\n",
      "Epoch 30, CIFAR-10 Batch 1:  Loss:     0.6375 Validation Accuracy: 0.675000\n",
      "Epoch 30, CIFAR-10 Batch 2:  Loss:     0.5471 Validation Accuracy: 0.677400\n",
      "Epoch 30, CIFAR-10 Batch 3:  Loss:     0.5681 Validation Accuracy: 0.679400\n",
      "Epoch 30, CIFAR-10 Batch 4:  Loss:     0.5435 Validation Accuracy: 0.676800\n",
      "Epoch 30, CIFAR-10 Batch 5:  Loss:     0.4858 Validation Accuracy: 0.678400\n",
      "Epoch 31, CIFAR-10 Batch 1:  Loss:     0.6081 Validation Accuracy: 0.675800\n",
      "Epoch 31, CIFAR-10 Batch 2:  Loss:     0.5420 Validation Accuracy: 0.678000\n",
      "Epoch 31, CIFAR-10 Batch 3:  Loss:     0.5442 Validation Accuracy: 0.681600\n",
      "Epoch 31, CIFAR-10 Batch 4:  Loss:     0.5228 Validation Accuracy: 0.682800\n",
      "Epoch 31, CIFAR-10 Batch 5:  Loss:     0.5022 Validation Accuracy: 0.679600\n",
      "Epoch 32, CIFAR-10 Batch 1:  Loss:     0.5983 Validation Accuracy: 0.674200\n",
      "Epoch 32, CIFAR-10 Batch 2:  Loss:     0.5185 Validation Accuracy: 0.683200\n",
      "Epoch 32, CIFAR-10 Batch 3:  Loss:     0.5368 Validation Accuracy: 0.682200\n",
      "Epoch 32, CIFAR-10 Batch 4:  Loss:     0.5143 Validation Accuracy: 0.684200\n",
      "Epoch 32, CIFAR-10 Batch 5:  Loss:     0.4778 Validation Accuracy: 0.675800\n",
      "Epoch 33, CIFAR-10 Batch 1:  Loss:     0.5742 Validation Accuracy: 0.677600\n",
      "Epoch 33, CIFAR-10 Batch 2:  Loss:     0.4978 Validation Accuracy: 0.680400\n",
      "Epoch 33, CIFAR-10 Batch 3:  Loss:     0.5261 Validation Accuracy: 0.679400\n",
      "Epoch 33, CIFAR-10 Batch 4:  Loss:     0.5054 Validation Accuracy: 0.685200\n",
      "Epoch 33, CIFAR-10 Batch 5:  Loss:     0.4744 Validation Accuracy: 0.679200\n",
      "Epoch 34, CIFAR-10 Batch 1:  Loss:     0.5834 Validation Accuracy: 0.669600\n",
      "Epoch 34, CIFAR-10 Batch 2:  Loss:     0.4943 Validation Accuracy: 0.685600\n",
      "Epoch 34, CIFAR-10 Batch 3:  Loss:     0.5279 Validation Accuracy: 0.676000\n",
      "Epoch 34, CIFAR-10 Batch 4:  Loss:     0.4899 Validation Accuracy: 0.684000\n",
      "Epoch 34, CIFAR-10 Batch 5:  Loss:     0.4461 Validation Accuracy: 0.679000\n",
      "Epoch 35, CIFAR-10 Batch 1:  Loss:     0.5632 Validation Accuracy: 0.685200\n",
      "Epoch 35, CIFAR-10 Batch 2:  Loss:     0.4994 Validation Accuracy: 0.677600\n",
      "Epoch 35, CIFAR-10 Batch 3:  Loss:     0.5115 Validation Accuracy: 0.684000\n",
      "Epoch 35, CIFAR-10 Batch 4:  Loss:     0.4933 Validation Accuracy: 0.686000\n",
      "Epoch 35, CIFAR-10 Batch 5:  Loss:     0.4436 Validation Accuracy: 0.679600\n",
      "Epoch 36, CIFAR-10 Batch 1:  Loss:     0.5721 Validation Accuracy: 0.679800\n",
      "Epoch 36, CIFAR-10 Batch 2:  Loss:     0.4705 Validation Accuracy: 0.684800\n",
      "Epoch 36, CIFAR-10 Batch 3:  Loss:     0.5101 Validation Accuracy: 0.682800\n",
      "Epoch 36, CIFAR-10 Batch 4:  Loss:     0.4792 Validation Accuracy: 0.684200\n",
      "Epoch 36, CIFAR-10 Batch 5:  Loss:     0.4217 Validation Accuracy: 0.686000\n",
      "Epoch 37, CIFAR-10 Batch 1:  Loss:     0.5232 Validation Accuracy: 0.689600\n",
      "Epoch 37, CIFAR-10 Batch 2:  Loss:     0.4688 Validation Accuracy: 0.688000\n",
      "Epoch 37, CIFAR-10 Batch 3:  Loss:     0.4849 Validation Accuracy: 0.679800\n",
      "Epoch 37, CIFAR-10 Batch 4:  Loss:     0.4778 Validation Accuracy: 0.691200\n",
      "Epoch 37, CIFAR-10 Batch 5:  Loss:     0.4258 Validation Accuracy: 0.684000\n",
      "Epoch 38, CIFAR-10 Batch 1:  Loss:     0.5407 Validation Accuracy: 0.679800\n",
      "Epoch 38, CIFAR-10 Batch 2:  Loss:     0.4484 Validation Accuracy: 0.684800\n",
      "Epoch 38, CIFAR-10 Batch 3:  Loss:     0.4748 Validation Accuracy: 0.683800\n",
      "Epoch 38, CIFAR-10 Batch 4:  Loss:     0.4399 Validation Accuracy: 0.684200\n",
      "Epoch 38, CIFAR-10 Batch 5:  Loss:     0.4247 Validation Accuracy: 0.683400\n",
      "Epoch 39, CIFAR-10 Batch 1:  Loss:     0.5377 Validation Accuracy: 0.672200\n",
      "Epoch 39, CIFAR-10 Batch 2:  Loss:     0.4553 Validation Accuracy: 0.683600\n",
      "Epoch 39, CIFAR-10 Batch 3:  Loss:     0.4805 Validation Accuracy: 0.683600\n",
      "Epoch 39, CIFAR-10 Batch 4:  Loss:     0.4503 Validation Accuracy: 0.685800\n",
      "Epoch 39, CIFAR-10 Batch 5:  Loss:     0.4263 Validation Accuracy: 0.675200\n",
      "Epoch 40, CIFAR-10 Batch 1:  Loss:     0.5287 Validation Accuracy: 0.685000\n",
      "Epoch 40, CIFAR-10 Batch 2:  Loss:     0.4363 Validation Accuracy: 0.688600\n",
      "Epoch 40, CIFAR-10 Batch 3:  Loss:     0.4738 Validation Accuracy: 0.687800\n",
      "Epoch 40, CIFAR-10 Batch 4:  Loss:     0.4243 Validation Accuracy: 0.685000\n",
      "Epoch 40, CIFAR-10 Batch 5:  Loss:     0.4090 Validation Accuracy: 0.682800\n",
      "Epoch 41, CIFAR-10 Batch 1:  Loss:     0.5316 Validation Accuracy: 0.674000\n",
      "Epoch 41, CIFAR-10 Batch 2:  Loss:     0.4360 Validation Accuracy: 0.680000\n",
      "Epoch 41, CIFAR-10 Batch 3:  Loss:     0.4461 Validation Accuracy: 0.686200\n",
      "Epoch 41, CIFAR-10 Batch 4:  Loss:     0.4357 Validation Accuracy: 0.682000\n",
      "Epoch 41, CIFAR-10 Batch 5:  Loss:     0.3755 Validation Accuracy: 0.685600\n",
      "Epoch 42, CIFAR-10 Batch 1:  Loss:     0.5043 Validation Accuracy: 0.682800\n",
      "Epoch 42, CIFAR-10 Batch 2:  Loss:     0.4119 Validation Accuracy: 0.690400\n",
      "Epoch 42, CIFAR-10 Batch 3:  Loss:     0.4406 Validation Accuracy: 0.688600\n",
      "Epoch 42, CIFAR-10 Batch 4:  Loss:     0.4163 Validation Accuracy: 0.688600\n",
      "Epoch 42, CIFAR-10 Batch 5:  Loss:     0.3940 Validation Accuracy: 0.684600\n",
      "Epoch 43, CIFAR-10 Batch 1:  Loss:     0.5056 Validation Accuracy: 0.682400\n",
      "Epoch 43, CIFAR-10 Batch 2:  Loss:     0.4302 Validation Accuracy: 0.685600\n",
      "Epoch 43, CIFAR-10 Batch 3:  Loss:     0.4523 Validation Accuracy: 0.681600\n",
      "Epoch 43, CIFAR-10 Batch 4:  Loss:     0.4398 Validation Accuracy: 0.686200\n"
     ]
    },
    {
     "name": "stdout",
     "output_type": "stream",
     "text": [
      "Epoch 43, CIFAR-10 Batch 5:  Loss:     0.3791 Validation Accuracy: 0.684600\n",
      "Epoch 44, CIFAR-10 Batch 1:  Loss:     0.4782 Validation Accuracy: 0.681600\n",
      "Epoch 44, CIFAR-10 Batch 2:  Loss:     0.3944 Validation Accuracy: 0.687200\n",
      "Epoch 44, CIFAR-10 Batch 3:  Loss:     0.4249 Validation Accuracy: 0.690800\n",
      "Epoch 44, CIFAR-10 Batch 4:  Loss:     0.4330 Validation Accuracy: 0.685400\n",
      "Epoch 44, CIFAR-10 Batch 5:  Loss:     0.3869 Validation Accuracy: 0.676000\n",
      "Epoch 45, CIFAR-10 Batch 1:  Loss:     0.4908 Validation Accuracy: 0.681200\n",
      "Epoch 45, CIFAR-10 Batch 2:  Loss:     0.4111 Validation Accuracy: 0.683600\n",
      "Epoch 45, CIFAR-10 Batch 3:  Loss:     0.4228 Validation Accuracy: 0.685600\n",
      "Epoch 45, CIFAR-10 Batch 4:  Loss:     0.4430 Validation Accuracy: 0.676200\n",
      "Epoch 45, CIFAR-10 Batch 5:  Loss:     0.3772 Validation Accuracy: 0.681000\n",
      "Epoch 46, CIFAR-10 Batch 1:  Loss:     0.4638 Validation Accuracy: 0.682800\n",
      "Epoch 46, CIFAR-10 Batch 2:  Loss:     0.3972 Validation Accuracy: 0.682000\n",
      "Epoch 46, CIFAR-10 Batch 3:  Loss:     0.4432 Validation Accuracy: 0.677400\n",
      "Epoch 46, CIFAR-10 Batch 4:  Loss:     0.4215 Validation Accuracy: 0.677600\n",
      "Epoch 46, CIFAR-10 Batch 5:  Loss:     0.3626 Validation Accuracy: 0.681800\n",
      "Epoch 47, CIFAR-10 Batch 1:  Loss:     0.4879 Validation Accuracy: 0.669200\n",
      "Epoch 47, CIFAR-10 Batch 2:  Loss:     0.3968 Validation Accuracy: 0.684600\n",
      "Epoch 47, CIFAR-10 Batch 3:  Loss:     0.4311 Validation Accuracy: 0.680800\n",
      "Epoch 47, CIFAR-10 Batch 4:  Loss:     0.3933 Validation Accuracy: 0.682200\n",
      "Epoch 47, CIFAR-10 Batch 5:  Loss:     0.3590 Validation Accuracy: 0.682400\n",
      "Epoch 48, CIFAR-10 Batch 1:  Loss:     0.4380 Validation Accuracy: 0.687800\n",
      "Epoch 48, CIFAR-10 Batch 2:  Loss:     0.3919 Validation Accuracy: 0.684600\n",
      "Epoch 48, CIFAR-10 Batch 3:  Loss:     0.4158 Validation Accuracy: 0.682800\n",
      "Epoch 48, CIFAR-10 Batch 4:  Loss:     0.3880 Validation Accuracy: 0.677200\n",
      "Epoch 48, CIFAR-10 Batch 5:  Loss:     0.3621 Validation Accuracy: 0.684400\n",
      "Epoch 49, CIFAR-10 Batch 1:  Loss:     0.4499 Validation Accuracy: 0.676000\n",
      "Epoch 49, CIFAR-10 Batch 2:  Loss:     0.3641 Validation Accuracy: 0.680200\n",
      "Epoch 49, CIFAR-10 Batch 3:  Loss:     0.3823 Validation Accuracy: 0.689600\n",
      "Epoch 49, CIFAR-10 Batch 4:  Loss:     0.3866 Validation Accuracy: 0.678800\n",
      "Epoch 49, CIFAR-10 Batch 5:  Loss:     0.3690 Validation Accuracy: 0.680200\n",
      "Epoch 50, CIFAR-10 Batch 1:  Loss:     0.4491 Validation Accuracy: 0.676800\n",
      "Epoch 50, CIFAR-10 Batch 2:  Loss:     0.3713 Validation Accuracy: 0.679000\n",
      "Epoch 50, CIFAR-10 Batch 3:  Loss:     0.3963 Validation Accuracy: 0.686000\n",
      "Epoch 50, CIFAR-10 Batch 4:  Loss:     0.3704 Validation Accuracy: 0.680800\n",
      "Epoch 50, CIFAR-10 Batch 5:  Loss:     0.3526 Validation Accuracy: 0.675200\n"
     ]
    }
   ],
   "source": [
    "\"\"\"\n",
    "DON'T MODIFY ANYTHING IN THIS CELL\n",
    "\"\"\"\n",
    "save_model_path = './image_classification'\n",
    "\n",
    "print('Training...')\n",
    "with tf.Session() as sess:\n",
    "    # Initializing the variables\n",
    "    sess.run(tf.global_variables_initializer())\n",
    "    \n",
    "    # Training cycle\n",
    "    for epoch in range(epochs):\n",
    "        # Loop over all batches\n",
    "        n_batches = 5\n",
    "        for batch_i in range(1, n_batches + 1):\n",
    "            for batch_features, batch_labels in helper.load_preprocess_training_batch(batch_i, batch_size):\n",
    "                train_neural_network(sess, optimizer, keep_probability, batch_features, batch_labels)\n",
    "            print('Epoch {:>2}, CIFAR-10 Batch {}:  '.format(epoch + 1, batch_i), end='')\n",
    "            print_stats(sess, batch_features, batch_labels, cost, accuracy)\n",
    "            \n",
    "    # Save Model\n",
    "    saver = tf.train.Saver()\n",
    "    save_path = saver.save(sess, save_model_path)"
   ]
  },
  {
   "cell_type": "markdown",
   "metadata": {},
   "source": [
    "# Checkpoint\n",
    "The model has been saved to disk.\n",
    "## Test Model\n",
    "Test your model against the test dataset.  This will be your final accuracy. You should have an accuracy greater than 50%. If you don't, keep tweaking the model architecture and parameters."
   ]
  },
  {
   "cell_type": "code",
   "execution_count": 74,
   "metadata": {},
   "outputs": [
    {
     "name": "stdout",
     "output_type": "stream",
     "text": [
      "INFO:tensorflow:Restoring parameters from ./image_classification\n",
      "Testing Accuracy: 0.6678653478622436\n",
      "\n"
     ]
    },
    {
     "data": {
      "image/png": "[encoded data removed]",
      "text/plain": [
       "<Figure size 432x288 with 8 Axes>"
      ]
     },
     "metadata": {
      "image/png": {
       "height": 319,
       "width": 355
      }
     },
     "output_type": "display_data"
    }
   ],
   "source": [
    "\"\"\"\n",
    "DON'T MODIFY ANYTHING IN THIS CELL\n",
    "\"\"\"\n",
    "%matplotlib inline\n",
    "%config InlineBackend.figure_format = 'retina'\n",
    "\n",
    "import tensorflow as tf\n",
    "import pickle\n",
    "import helper\n",
    "import random\n",
    "\n",
    "# Set batch size if not already set\n",
    "try:\n",
    "    if batch_size:\n",
    "        pass\n",
    "except NameError:\n",
    "    batch_size = 64\n",
    "\n",
    "save_model_path = './image_classification'\n",
    "n_samples = 4\n",
    "top_n_predictions = 3\n",
    "\n",
    "def test_model():\n",
    "    \"\"\"\n",
    "    Test the saved model against the test dataset\n",
    "    \"\"\"\n",
    "\n",
    "    test_features, test_labels = pickle.load(open('preprocess_training.p', mode='rb'))\n",
    "    loaded_graph = tf.Graph()\n",
    "\n",
    "    with tf.Session(graph=loaded_graph) as sess:\n",
    "        # Load model\n",
    "        loader = tf.train.import_meta_graph(save_model_path + '.meta')\n",
    "        loader.restore(sess, save_model_path)\n",
    "\n",
    "        # Get Tensors from loaded model\n",
    "        loaded_x = loaded_graph.get_tensor_by_name('x:0')\n",
    "        loaded_y = loaded_graph.get_tensor_by_name('y:0')\n",
    "        loaded_keep_prob = loaded_graph.get_tensor_by_name('keep_prob:0')\n",
    "        loaded_logits = loaded_graph.get_tensor_by_name('logits:0')\n",
    "        loaded_acc = loaded_graph.get_tensor_by_name('accuracy:0')\n",
    "        \n",
    "        # Get accuracy in batches for memory limitations\n",
    "        test_batch_acc_total = 0\n",
    "        test_batch_count = 0\n",
    "        \n",
    "        for train_feature_batch, train_label_batch in helper.batch_features_labels(test_features, test_labels, batch_size):\n",
    "            test_batch_acc_total += sess.run(\n",
    "                loaded_acc,\n",
    "                feed_dict={loaded_x: train_feature_batch, loaded_y: train_label_batch, loaded_keep_prob: 1.0})\n",
    "            test_batch_count += 1\n",
    "\n",
    "        print('Testing Accuracy: {}\\n'.format(test_batch_acc_total/test_batch_count))\n",
    "\n",
    "        # Print Random Samples\n",
    "        random_test_features, random_test_labels = tuple(zip(*random.sample(list(zip(test_features, test_labels)), n_samples)))\n",
    "        random_test_predictions = sess.run(\n",
    "            tf.nn.top_k(tf.nn.softmax(loaded_logits), top_n_predictions),\n",
    "            feed_dict={loaded_x: random_test_features, loaded_y: random_test_labels, loaded_keep_prob: 1.0})\n",
    "        helper.display_image_predictions(random_test_features, random_test_labels, random_test_predictions)\n",
    "\n",
    "\n",
    "test_model()"
   ]
  },
  {
   "cell_type": "markdown",
   "metadata": {},
   "source": [
    "## Why 50-80% Accuracy?\n",
    "You might be wondering why you can't get an accuracy any higher. First things first, 50% isn't bad for a simple CNN.  Pure guessing would get you 10% accuracy. That's because there are many more techniques that can be applied to your model and we recemmond that once you are done with this project, you explore!\n",
    "\n",
    "## Submitting This Project\n",
    "When submitting this project, make sure to run all the cells before saving the notebook.  Save the notebook file as \"image_classification.ipynb\" and save it as a HTML file under \"File\" -> \"Download as\".  Include the \"helper.py\" and \"problem_unittests.py\" files in your submission."
   ]
  }
 ],
 "metadata": {
  "kernelspec": {
   "display_name": "Python 3",
   "language": "python",
   "name": "python3"
  },
  "language_info": {
   "codemirror_mode": {
    "name": "ipython",
    "version": 3
   },
   "file_extension": ".py",
   "mimetype": "text/x-python",
   "name": "python",
   "nbconvert_exporter": "python",
   "pygments_lexer": "ipython3",
   "version": "3.5.5"
  }
 },
 "nbformat": 4,
 "nbformat_minor": 1
}
