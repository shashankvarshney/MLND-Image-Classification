{
 "cells": [
  {
   "cell_type": "markdown",
   "metadata": {
    "colab_type": "text",
    "collapsed": true,
    "id": "xMLV1qqNIHTN"
   },
   "source": [
    "# Image Classification\n",
    "In this project, you'll classify images from the [CIFAR-10 dataset](https://www.cs.toronto.edu/~kriz/cifar.html).  The dataset consists of airplanes, dogs, cats, and other objects. You'll preprocess the images, then train a convolutional neural network on all the samples. The images need to be normalized and the labels need to be one-hot encoded.  You'll get to apply what you learned and build a convolutional, max pooling, dropout, and fully connected layers.  At the end, you'll get to see your neural network's predictions on the sample images.\n",
    "## Get the Data\n",
    "Run the following cell to download the [CIFAR-10 dataset for python](https://www.cs.toronto.edu/~kriz/cifar-10-python.tar.gz)."
   ]
  },
  {
   "cell_type": "code",
   "execution_count": 27,
   "metadata": {
    "colab": {
     "base_uri": "https://localhost:8080/",
     "height": 5897
    },
    "colab_type": "code",
    "id": "Gi-Oil3VUuy-",
    "outputId": "d7a27e7e-8ca5-4f6a-af05-14fa3968ffa9"
   },
   "outputs": [
    {
     "name": "stdout",
     "output_type": "stream",
     "text": [
      "Package                  Version              \n",
      "------------------------ ---------------------\n",
      "absl-py                  0.7.0                \n",
      "alabaster                0.7.12               \n",
      "albumentations           0.1.11               \n",
      "altair                   2.3.0                \n",
      "astor                    0.7.1                \n",
      "astropy                  3.0.5                \n",
      "atari-py                 0.1.7                \n",
      "atomicwrites             1.2.1                \n",
      "attrs                    18.2.0               \n",
      "audioread                2.1.6                \n",
      "autograd                 1.2                  \n",
      "Babel                    2.6.0                \n",
      "backports.tempfile       1.0                  \n",
      "backports.weakref        1.0.post1            \n",
      "beautifulsoup4           4.6.3                \n",
      "bleach                   3.1.0                \n",
      "bokeh                    1.0.4                \n",
      "boto                     2.49.0               \n",
      "boto3                    1.9.86               \n",
      "botocore                 1.12.86              \n",
      "Bottleneck               1.2.1                \n",
      "bs4                      0.0.1                \n",
      "bz2file                  0.98                 \n",
      "cachetools               3.1.0                \n",
      "certifi                  2018.11.29           \n",
      "cffi                     1.11.5               \n",
      "chainer                  5.0.0                \n",
      "chardet                  3.0.4                \n",
      "Click                    7.0                  \n",
      "cloudpickle              0.6.1                \n",
      "cmake                    3.12.0               \n",
      "colorlover               0.3.0                \n",
      "community                1.0.0b1              \n",
      "contextlib2              0.5.5                \n",
      "convertdate              2.1.3                \n",
      "coverage                 3.7.1                \n",
      "coveralls                0.5                  \n",
      "crcmod                   1.7                  \n",
      "cufflinks                0.14.6               \n",
      "cupy-cuda92              5.0.0                \n",
      "cvxopt                   1.2.2                \n",
      "cvxpy                    1.0.14               \n",
      "cycler                   0.10.0               \n",
      "cymem                    2.0.2                \n",
      "Cython                   0.29.3               \n",
      "cytoolz                  0.9.0.1              \n",
      "daft                     0.0.4                \n",
      "dask                     0.20.2               \n",
      "dataclasses              0.6                  \n",
      "datascience              0.10.6               \n",
      "decorator                4.3.2                \n",
      "defusedxml               0.5.0                \n",
      "dill                     0.2.9                \n",
      "distributed              1.25.2               \n",
      "Django                   2.1.5                \n",
      "dlib                     19.16.0              \n",
      "dm-sonnet                1.23                 \n",
      "docopt                   0.6.2                \n",
      "docutils                 0.14                 \n",
      "dopamine-rl              1.0.5                \n",
      "easydict                 1.9                  \n",
      "ecos                     2.0.7.post1          \n",
      "editdistance             0.5.2                \n",
      "en-core-web-sm           2.0.0                \n",
      "entrypoints              0.3                  \n",
      "ephem                    3.7.6.0              \n",
      "et-xmlfile               1.0.1                \n",
      "fa2                      0.3.5                \n",
      "fancyimpute              0.4.2                \n",
      "fastai                   1.0.42               \n",
      "fastcache                1.0.2                \n",
      "fastdtw                  0.3.2                \n",
      "fastprogress             0.1.18               \n",
      "fastrlock                0.4                  \n",
      "fbprophet                0.4.post2            \n",
      "featuretools             0.4.1                \n",
      "filelock                 3.0.10               \n",
      "fix-yahoo-finance        0.0.22               \n",
      "Flask                    1.0.2                \n",
      "folium                   0.2.1                \n",
      "future                   0.16.0               \n",
      "gast                     0.2.2                \n",
      "GDAL                     2.2.2                \n",
      "gdown                    3.6.4                \n",
      "gensim                   3.6.0                \n",
      "geographiclib            1.49                 \n",
      "geopy                    1.17.0               \n",
      "gevent                   1.4.0                \n",
      "gin-config               0.1.2                \n",
      "glob2                    0.6                  \n",
      "google                   2.0.1                \n",
      "google-api-core          1.7.0                \n",
      "google-api-python-client 1.6.7                \n",
      "google-auth              1.4.2                \n",
      "google-auth-httplib2     0.0.3                \n",
      "google-auth-oauthlib     0.2.0                \n",
      "google-cloud-bigquery    1.8.1                \n",
      "google-cloud-core        0.29.1               \n",
      "google-cloud-language    1.0.2                \n",
      "google-cloud-storage     1.8.0                \n",
      "google-cloud-translate   1.3.3                \n",
      "google-colab             0.0.1a1              \n",
      "google-resumable-media   0.3.2                \n",
      "googleapis-common-protos 1.5.6                \n",
      "googledrivedownloader    0.3                  \n",
      "graph-nets               1.0.2                \n",
      "graphviz                 0.10.1               \n",
      "greenlet                 0.4.15               \n",
      "grpcio                   1.15.0               \n",
      "gspread                  3.0.1                \n",
      "gspread-dataframe        3.0.2                \n",
      "gunicorn                 19.9.0               \n",
      "gym                      0.10.11              \n",
      "h5py                     2.8.0                \n",
      "HeapDict                 1.0.0                \n",
      "holidays                 0.9.9                \n",
      "html5lib                 1.0.1                \n",
      "httpimport               0.5.16               \n",
      "httplib2                 0.11.3               \n",
      "humanize                 0.5.1                \n",
      "hyperopt                 0.1.1                \n",
      "ideep4py                 2.0.0.post3          \n",
      "idna                     2.6                  \n",
      "image                    1.5.27               \n",
      "imageio                  2.4.1                \n",
      "imagesize                1.1.0                \n",
      "imbalanced-learn         0.4.3                \n",
      "imblearn                 0.0                  \n",
      "imgaug                   0.2.6                \n",
      "imutils                  0.5.2                \n",
      "inflect                  2.1.0                \n",
      "intel-openmp             2019.0               \n",
      "intervaltree             2.1.0                \n",
      "ipykernel                4.6.1                \n",
      "ipython                  5.5.0                \n",
      "ipython-genutils         0.2.0                \n",
      "ipython-sql              0.3.9                \n",
      "ipywidgets               7.4.2                \n",
      "itsdangerous             1.1.0                \n",
      "jdcal                    1.4                  \n",
      "jieba                    0.39                 \n",
      "Jinja2                   2.10                 \n",
      "jmespath                 0.9.3                \n",
      "joblib                   0.13.1               \n",
      "jpeg4py                  0.1.4                \n",
      "jsonschema               2.6.0                \n",
      "jupyter                  1.0.0                \n",
      "jupyter-client           5.2.4                \n",
      "jupyter-console          6.0.0                \n",
      "jupyter-core             4.4.0                \n",
      "kaggle                   1.5.2                \n",
      "kapre                    0.1.3.1              \n",
      "Keras                    2.2.4                \n",
      "Keras-Applications       1.0.7                \n",
      "Keras-Preprocessing      1.0.8                \n",
      "keras-vis                0.4.1                \n",
      "kiwisolver               1.0.1                \n",
      "knnimpute                0.1.0                \n",
      "librosa                  0.6.2                \n",
      "lightgbm                 2.2.2                \n",
      "llvmlite                 0.27.0               \n",
      "lmdb                     0.94                 \n",
      "lucid                    0.3.8                \n",
      "lunardate                0.2.0                \n",
      "lxml                     4.2.6                \n",
      "magenta                  0.3.19               \n",
      "Markdown                 3.0.1                \n",
      "MarkupSafe               1.1.0                \n",
      "matplotlib               3.0.2                \n",
      "matplotlib-venn          0.11.5               \n",
      "mesh-tensorflow          0.0.5                \n",
      "mido                     1.2.6                \n",
      "mir-eval                 0.5                  \n",
      "missingno                0.4.1                \n",
      "mistune                  0.8.4                \n",
      "mkl                      2019.0               \n",
      "mlxtend                  0.14.0               \n",
      "more-itertools           5.0.0                \n",
      "moviepy                  0.2.3.5              \n",
      "mpi4py                   3.0.0                \n",
      "mpmath                   1.1.0                \n",
      "msgpack                  0.5.6                \n",
      "msgpack-numpy            0.4.3.2              \n",
      "multiprocess             0.70.7               \n",
      "multitasking             0.0.7                \n",
      "murmurhash               1.0.1                \n",
      "music21                  5.5.0                \n",
      "natsort                  5.5.0                \n",
      "nbconvert                5.4.0                \n",
      "nbformat                 4.4.0                \n",
      "networkx                 2.2                  \n",
      "nibabel                  2.3.3                \n",
      "nltk                     3.2.5                \n",
      "nose                     1.3.7                \n",
      "notebook                 5.2.2                \n",
      "np-utils                 0.5.9.0              \n",
      "numba                    0.40.1               \n",
      "numexpr                  2.6.9                \n",
      "numpy                    1.14.6               \n",
      "nvidia-ml-py3            7.352.0              \n",
      "oauth2client             4.1.3                \n",
      "oauthlib                 3.0.1                \n",
      "okgrade                  0.4.3                \n",
      "olefile                  0.46                 \n",
      "opencv-contrib-python    3.4.3.18             \n",
      "opencv-python            3.4.5.20             \n",
      "openpyxl                 2.5.9                \n",
      "osqp                     0.5.0                \n",
      "packaging                19.0                 \n",
      "pandas                   0.22.0               \n",
      "pandas-datareader        0.7.0                \n",
      "pandas-gbq               0.4.1                \n",
      "pandas-profiling         1.4.1                \n",
      "pandocfilters            1.4.2                \n",
      "pathlib                  1.0.1                \n",
      "patsy                    0.5.1                \n",
      "pexpect                  4.6.0                \n",
      "pickleshare              0.7.5                \n",
      "Pillow                   4.0.0                \n",
      "pip                      19.0.1               \n",
      "plac                     0.9.6                \n",
      "plotly                   1.12.12              \n",
      "pluggy                   0.8.1                \n",
      "portpicker               1.2.0                \n",
      "prefetch-generator       1.0.1                \n",
      "preshed                  2.0.1                \n",
      "pretty-midi              0.2.8                \n",
      "prettytable              0.7.2                \n",
      "progressbar2             3.38.0               \n",
      "promise                  2.2.1                \n",
      "prompt-toolkit           1.0.15               \n",
      "protobuf                 3.6.1                \n",
      "psutil                   5.4.8                \n",
      "psycopg2                 2.7.6.1              \n",
      "ptyprocess               0.6.0                \n",
      "py                       1.7.0                \n",
      "pyasn1                   0.4.5                \n",
      "pyasn1-modules           0.2.4                \n",
      "pycocotools              2.0.0                \n",
      "pycparser                2.19                 \n",
      "pydot                    1.3.0                \n",
      "pydot-ng                 2.0.0                \n",
      "pydotplus                2.0.2                \n",
      "pyemd                    0.5.1                \n",
      "pyglet                   1.3.2                \n",
      "Pygments                 2.1.3                \n",
      "pygobject                3.26.1               \n",
      "pymc3                    3.6                  \n",
      "pymongo                  3.7.2                \n",
      "pymystem3                0.2.0                \n",
      "PyOpenGL                 3.1.0                \n",
      "pyparsing                2.3.1                \n",
      "pysndfile                1.3.2                \n",
      "PySocks                  1.6.8                \n",
      "pystache                 0.5.4                \n",
      "pystan                   2.18.1.0             \n",
      "pytest                   3.10.1               \n",
      "python-apt               1.6.3                \n",
      "python-chess             0.23.11              \n",
      "python-dateutil          2.5.3                \n",
      "python-louvain           0.13                 \n",
      "python-rtmidi            1.2.1                \n",
      "python-slugify           2.0.1                \n",
      "python-utils             2.3.0                \n",
      "pytz                     2018.9               \n",
      "PyWavelets               1.0.1                \n",
      "PyYAML                   3.13                 \n",
      "pyzmq                    17.0.0               \n",
      "qtconsole                4.4.3                \n",
      "regex                    2018.1.10            \n",
      "requests                 2.18.4               \n",
      "requests-oauthlib        1.2.0                \n",
      "resampy                  0.2.1                \n",
      "rsa                      4.0                  \n",
      "s3fs                     0.2.0                \n",
      "s3transfer               0.1.13               \n",
      "scikit-image             0.13.1               \n",
      "scikit-learn             0.20.2               \n",
      "scipy                    1.1.0                \n",
      "screen-resolution-extra  0.0.0                \n",
      "scs                      2.0.2                \n",
      "seaborn                  0.7.1                \n",
      "setuptools               40.7.1               \n",
      "setuptools-git           1.2                  \n",
      "simplegeneric            0.8.1                \n",
      "six                      1.11.0               \n",
      "sklearn                  0.0                  \n",
      "smart-open               1.8.0                \n",
      "snowballstemmer          1.2.1                \n",
      "sortedcontainers         2.1.0                \n",
      "spacy                    2.0.18               \n",
      "Sphinx                   1.8.3                \n",
      "sphinxcontrib-websupport 1.1.0                \n",
      "SQLAlchemy               1.2.17               \n",
      "sqlparse                 0.2.4                \n",
      "stable-baselines         2.2.1                \n",
      "statsmodels              0.8.0                \n",
      "sympy                    1.1.1                \n",
      "tables                   3.4.4                \n",
      "tabulate                 0.8.3                \n",
      "tblib                    1.3.2                \n",
      "tensor2tensor            1.11.0               \n",
      "tensorboard              1.12.2               \n",
      "tensorboardcolab         0.0.22               \n",
      "tensorflow               1.12.0               \n",
      "tensorflow-hub           0.2.0                \n",
      "tensorflow-metadata      0.9.0                \n",
      "tensorflow-probability   0.5.0                \n",
      "termcolor                1.1.0                \n",
      "terminado                0.8.1                \n",
      "testpath                 0.4.2                \n",
      "textblob                 0.15.2               \n",
      "textgenrnn               1.4.1                \n",
      "tfds-nightly             0.0.2.dev201901300014\n",
      "tflearn                  0.3.2                \n",
      "Theano                   1.0.4                \n",
      "thinc                    6.12.1               \n",
      "toolz                    0.9.0                \n",
      "torch                    1.0.0                \n",
      "torchsummary             1.5.1                \n",
      "torchtext                0.3.1                \n",
      "torchvision              0.2.1                \n",
      "tornado                  4.5.3                \n",
      "tqdm                     4.28.1               \n",
      "traitlets                4.3.2                \n",
      "tweepy                   3.6.0                \n",
      "typing                   3.6.6                \n",
      "ujson                    1.35                 \n",
      "umap-learn               0.3.7                \n",
      "Unidecode                1.0.23               \n",
      "uritemplate              3.0.0                \n",
      "urllib3                  1.22                 \n",
      "vega-datasets            0.7.0                \n",
      "wcwidth                  0.1.7                \n",
      "webencodings             0.5.1                \n",
      "Werkzeug                 0.14.1               \n",
      "wheel                    0.32.3               \n",
      "widgetsnbextension       3.4.2                \n",
      "wordcloud                1.5.0                \n",
      "wrapt                    1.11.1               \n",
      "xarray                   0.11.3               \n",
      "xgboost                  0.7.post4            \n",
      "xkit                     0.0.0                \n",
      "xlrd                     1.1.0                \n",
      "xlwt                     1.3.0                \n",
      "yellowbrick              0.9                  \n",
      "zict                     0.1.3                \n",
      "zmq                      0.0.0                \n"
     ]
    }
   ],
   "source": [
    "!pip list"
   ]
  },
  {
   "cell_type": "code",
   "execution_count": 0,
   "metadata": {
    "colab": {},
    "colab_type": "code",
    "collapsed": true,
    "id": "_pzHSn2CJCFl"
   },
   "outputs": [],
   "source": [
    "from google.colab import drive"
   ]
  },
  {
   "cell_type": "code",
   "execution_count": 0,
   "metadata": {
    "colab": {},
    "colab_type": "code",
    "collapsed": true,
    "id": "vURMl4FPKmNS"
   },
   "outputs": [],
   "source": [
    "import os"
   ]
  },
  {
   "cell_type": "code",
   "execution_count": 3,
   "metadata": {
    "colab": {
     "base_uri": "https://localhost:8080/",
     "height": 34
    },
    "colab_type": "code",
    "id": "S1qSeOv9JK7d",
    "outputId": "9acfbb4a-bceb-42c9-a396-90c29282b81e"
   },
   "outputs": [
    {
     "name": "stdout",
     "output_type": "stream",
     "text": [
      "Drive already mounted at /content/drive; to attempt to forcibly remount, call drive.mount(\"/content/drive\", force_remount=True).\n"
     ]
    }
   ],
   "source": [
    "drive.mount('/content/drive')"
   ]
  },
  {
   "cell_type": "code",
   "execution_count": 0,
   "metadata": {
    "colab": {},
    "colab_type": "code",
    "collapsed": true,
    "id": "RXStBjMbKmcH"
   },
   "outputs": [],
   "source": [
    "os.chdir(\"./drive/My Drive/Colab Notebooks/MLND-Image_classification\")"
   ]
  },
  {
   "cell_type": "code",
   "execution_count": 5,
   "metadata": {
    "colab": {
     "base_uri": "https://localhost:8080/",
     "height": 34
    },
    "colab_type": "code",
    "id": "x_O33dnPIHTP",
    "outputId": "22ffb7c7-0fcc-484d-b032-cbccb5b4e3a7"
   },
   "outputs": [
    {
     "name": "stdout",
     "output_type": "stream",
     "text": [
      "All files found!\n"
     ]
    }
   ],
   "source": [
    "\"\"\"\n",
    "DON'T MODIFY ANYTHING IN THIS CELL THAT IS BELOW THIS LINE\n",
    "\"\"\"\n",
    "from urllib.request import urlretrieve\n",
    "from os.path import isfile, isdir\n",
    "from tqdm import tqdm\n",
    "import problem_unittests as tests\n",
    "import tarfile\n",
    "\n",
    "cifar10_dataset_folder_path = 'cifar-10-batches-py'\n",
    "\n",
    "class DLProgress(tqdm):\n",
    "    last_block = 0\n",
    "\n",
    "    def hook(self, block_num=1, block_size=1, total_size=None):\n",
    "        self.total = total_size\n",
    "        self.update((block_num - self.last_block) * block_size)\n",
    "        self.last_block = block_num\n",
    "\n",
    "if not isfile('cifar-10-python.tar.gz'):\n",
    "    with DLProgress(unit='B', unit_scale=True, miniters=1, desc='CIFAR-10 Dataset') as pbar:\n",
    "        urlretrieve(\n",
    "            'https://www.cs.toronto.edu/~kriz/cifar-10-python.tar.gz',\n",
    "            'cifar-10-python.tar.gz',\n",
    "            pbar.hook)\n",
    "\n",
    "if not isdir(cifar10_dataset_folder_path):\n",
    "    with tarfile.open('cifar-10-python.tar.gz') as tar:\n",
    "        tar.extractall()\n",
    "        tar.close()\n",
    "\n",
    "\n",
    "tests.test_folder_path(cifar10_dataset_folder_path)"
   ]
  },
  {
   "cell_type": "markdown",
   "metadata": {
    "colab_type": "text",
    "id": "GXFouApgIHTX"
   },
   "source": [
    "## Explore the Data\n",
    "The dataset is broken into batches to prevent your machine from running out of memory.  The CIFAR-10 dataset consists of 5 batches, named `data_batch_1`, `data_batch_2`, etc.. Each batch contains the labels and images that are one of the following:\n",
    "* airplane\n",
    "* automobile\n",
    "* bird\n",
    "* cat\n",
    "* deer\n",
    "* dog\n",
    "* frog\n",
    "* horse\n",
    "* ship\n",
    "* truck\n",
    "\n",
    "Understanding a dataset is part of making predictions on the data.  Play around with the code cell below by changing the `batch_id` and `sample_id`. The `batch_id` is the id for a batch (1-5). The `sample_id` is the id for a image and label pair in the batch.\n",
    "\n",
    "Ask yourself \"What are all possible labels?\", \"What is the range of values for the image data?\", \"Are the labels in order or random?\".  Answers to questions like these will help you preprocess the data and end up with better predictions."
   ]
  },
  {
   "cell_type": "code",
   "execution_count": 6,
   "metadata": {
    "colab": {
     "base_uri": "https://localhost:8080/",
     "height": 433
    },
    "colab_type": "code",
    "id": "jLJOo1l8IHTY",
    "outputId": "e8e2f911-1177-4ae0-ecc3-82218493fa98"
   },
   "outputs": [
    {
     "name": "stdout",
     "output_type": "stream",
     "text": [
      "\n",
      "Stats of batch 1:\n",
      "Samples: 10000\n",
      "Label Counts: {0: 1005, 1: 974, 2: 1032, 3: 1016, 4: 999, 5: 937, 6: 1030, 7: 1001, 8: 1025, 9: 981}\n",
      "First 20 Labels: [6, 9, 9, 4, 1, 1, 2, 7, 8, 3, 4, 7, 7, 2, 9, 9, 9, 3, 2, 6]\n",
      "\n",
      "Example of Image 5:\n",
      "Image - Min Value: 0 Max Value: 252\n",
      "Image - Shape: (32, 32, 3)\n",
      "Label - Label Id: 1 Name: automobile\n"
     ]
    },
    {
     "data": {
      "image/png": "[encoded data removed]",
      "text/plain": [
       "<Figure size 432x288 with 1 Axes>"
      ]
     },
     "metadata": {
      "image/png": {
       "height": 248,
       "width": 249
      },
      "tags": []
     },
     "output_type": "display_data"
    }
   ],
   "source": [
    "%matplotlib inline\n",
    "%config InlineBackend.figure_format = 'retina'\n",
    "\n",
    "import helper\n",
    "import numpy as np\n",
    "\n",
    "# Explore the dataset\n",
    "batch_id = 1\n",
    "sample_id = 5\n",
    "helper.display_stats(cifar10_dataset_folder_path, batch_id, sample_id)"
   ]
  },
  {
   "cell_type": "markdown",
   "metadata": {
    "colab_type": "text",
    "id": "vnLdMU8AIHTf"
   },
   "source": [
    "## Implement Preprocess Functions\n",
    "### Normalize\n",
    "In the cell below, implement the `normalize` function to take in image data, `x`, and return it as a normalized Numpy array. The values should be in the range of 0 to 1, inclusive.  The return object should be the same shape as `x`."
   ]
  },
  {
   "cell_type": "code",
   "execution_count": 7,
   "metadata": {
    "colab": {
     "base_uri": "https://localhost:8080/",
     "height": 34
    },
    "colab_type": "code",
    "id": "Iyng5hylIHT4",
    "outputId": "ba50d2cb-fdd1-429c-b2e7-a77556fb466a"
   },
   "outputs": [
    {
     "name": "stdout",
     "output_type": "stream",
     "text": [
      "Tests Passed\n"
     ]
    }
   ],
   "source": [
    "def normalize(x):\n",
    "    \"\"\"\n",
    "    Normalize a list of sample image data in the range of 0 to 1\n",
    "    : x: List of image data.  The image shape is (32, 32, 3)\n",
    "    : return: Numpy array of normalize data\n",
    "    \"\"\"\n",
    "    # TODO: Implement Function\n",
    "    x = x/255\n",
    "    return x\n",
    "\n",
    "\n",
    "\"\"\"\n",
    "DON'T MODIFY ANYTHING IN THIS CELL THAT IS BELOW THIS LINE\n",
    "\"\"\"\n",
    "tests.test_normalize(normalize)"
   ]
  },
  {
   "cell_type": "markdown",
   "metadata": {
    "colab_type": "text",
    "id": "Je-y5z0mIHUB"
   },
   "source": [
    "### One-hot encode\n",
    "Just like the previous code cell, you'll be implementing a function for preprocessing.  This time, you'll implement the `one_hot_encode` function. The input, `x`, are a list of labels.  Implement the function to return the list of labels as One-Hot encoded Numpy array.  The possible values for labels are 0 to 9. The one-hot encoding function should return the same encoding for each value between each call to `one_hot_encode`.  Make sure to save the map of encodings outside the function.\n",
    "\n",
    "**Hint:**\n",
    "\n",
    "Look into LabelBinarizer in the preprocessing module of sklearn."
   ]
  },
  {
   "cell_type": "code",
   "execution_count": 8,
   "metadata": {
    "colab": {
     "base_uri": "https://localhost:8080/",
     "height": 34
    },
    "colab_type": "code",
    "id": "1tMUL43TIHUC",
    "outputId": "4257b63b-1f03-45f2-d651-1fc0f844913e"
   },
   "outputs": [
    {
     "name": "stdout",
     "output_type": "stream",
     "text": [
      "Tests Passed\n"
     ]
    }
   ],
   "source": [
    "from sklearn.preprocessing import LabelBinarizer\n",
    "\n",
    "def one_hot_encode(x):\n",
    "    \"\"\"\n",
    "    One hot encode a list of sample labels. Return a one-hot encoded vector for each label.\n",
    "    : x: List of sample Labels\n",
    "    : return: Numpy array of one-hot encoded labels\n",
    "    \"\"\"\n",
    "    # TODO: Implement Function\n",
    "    lb = LabelBinarizer()\n",
    "    lb.fit(x)\n",
    "    lb.classes_ = list(range(0, 10))\n",
    "    return lb.transform(x)\n",
    "\n",
    "\n",
    "\"\"\"\n",
    "DON'T MODIFY ANYTHING IN THIS CELL THAT IS BELOW THIS LINE\n",
    "\"\"\"\n",
    "tests.test_one_hot_encode(one_hot_encode)"
   ]
  },
  {
   "cell_type": "markdown",
   "metadata": {
    "colab_type": "text",
    "id": "LtXXOcRXIHUL"
   },
   "source": [
    "### Randomize Data\n",
    "As you saw from exploring the data above, the order of the samples are randomized.  It doesn't hurt to randomize it again, but you don't need to for this dataset."
   ]
  },
  {
   "cell_type": "markdown",
   "metadata": {
    "colab_type": "text",
    "id": "uT5cXXyQIHUP"
   },
   "source": [
    "## Preprocess all the data and save it\n",
    "Running the code cell below will preprocess all the CIFAR-10 data and save it to file. The code below also uses 10% of the training data for validation."
   ]
  },
  {
   "cell_type": "code",
   "execution_count": 0,
   "metadata": {
    "colab": {},
    "colab_type": "code",
    "collapsed": true,
    "id": "2XG2SXVZIHUR"
   },
   "outputs": [],
   "source": [
    "\"\"\"\n",
    "DON'T MODIFY ANYTHING IN THIS CELL\n",
    "\"\"\"\n",
    "# Preprocess Training, Validation, and Testing Data\n",
    "helper.preprocess_and_save_data(cifar10_dataset_folder_path, normalize, one_hot_encode)"
   ]
  },
  {
   "cell_type": "markdown",
   "metadata": {
    "colab_type": "text",
    "id": "AECWpRkWIHUu"
   },
   "source": [
    "# Check Point\n",
    "This is your first checkpoint.  If you ever decide to come back to this notebook or have to restart the notebook, you can start from here.  The preprocessed data has been saved to disk."
   ]
  },
  {
   "cell_type": "code",
   "execution_count": 0,
   "metadata": {
    "colab": {},
    "colab_type": "code",
    "collapsed": true,
    "id": "y6w2wnWmIHU2"
   },
   "outputs": [],
   "source": [
    "\"\"\"\n",
    "DON'T MODIFY ANYTHING IN THIS CELL\n",
    "\"\"\"\n",
    "import pickle\n",
    "import problem_unittests as tests\n",
    "import helper\n",
    "\n",
    "# Load the Preprocessed Validation data\n",
    "valid_features, valid_labels = pickle.load(open('preprocess_validation.p', mode='rb'))"
   ]
  },
  {
   "cell_type": "markdown",
   "metadata": {
    "colab_type": "text",
    "id": "brqFdOpzIHU9"
   },
   "source": [
    "## Build the network\n",
    "For the neural network, you'll build each layer into a function.  Most of the code you've seen has been outside of functions. To test your code more thoroughly, we require that you put each layer in a function.  This allows us to give you better feedback and test for simple mistakes using our unittests before you submit your project.\n",
    "\n",
    ">**Note:** If you're finding it hard to dedicate enough time for this course each week, we've provided a small shortcut to this part of the project. In the next couple of problems, you'll have the option to use classes from the [TensorFlow Layers](https://www.tensorflow.org/api_docs/python/tf/layers) or [TensorFlow Layers (contrib)](https://www.tensorflow.org/api_guides/python/contrib.layers) packages to build each layer, except the layers you build in the \"Convolutional and Max Pooling Layer\" section.  TF Layers is similar to Keras's and TFLearn's abstraction to layers, so it's easy to pickup.\n",
    "\n",
    ">However, if you would like to get the most out of this course, try to solve all the problems _without_ using anything from the TF Layers packages. You **can** still use classes from other packages that happen to have the same name as ones you find in TF Layers! For example, instead of using the TF Layers version of the `conv2d` class, [tf.layers.conv2d](https://www.tensorflow.org/api_docs/python/tf/layers/conv2d), you would want to use the TF Neural Network version of `conv2d`, [tf.nn.conv2d](https://www.tensorflow.org/api_docs/python/tf/nn/conv2d). \n",
    "\n",
    "Let's begin!\n",
    "\n",
    "### Input\n",
    "The neural network needs to read the image data, one-hot encoded labels, and dropout keep probability. Implement the following functions\n",
    "* Implement `neural_net_image_input`\n",
    " * Return a [TF Placeholder](https://www.tensorflow.org/api_docs/python/tf/placeholder)\n",
    " * Set the shape using `image_shape` with batch size set to `None`.\n",
    " * Name the TensorFlow placeholder \"x\" using the TensorFlow `name` parameter in the [TF Placeholder](https://www.tensorflow.org/api_docs/python/tf/placeholder).\n",
    "* Implement `neural_net_label_input`\n",
    " * Return a [TF Placeholder](https://www.tensorflow.org/api_docs/python/tf/placeholder)\n",
    " * Set the shape using `n_classes` with batch size set to `None`.\n",
    " * Name the TensorFlow placeholder \"y\" using the TensorFlow `name` parameter in the [TF Placeholder](https://www.tensorflow.org/api_docs/python/tf/placeholder).\n",
    "* Implement `neural_net_keep_prob_input`\n",
    " * Return a [TF Placeholder](https://www.tensorflow.org/api_docs/python/tf/placeholder) for dropout keep probability.\n",
    " * Name the TensorFlow placeholder \"keep_prob\" using the TensorFlow `name` parameter in the [TF Placeholder](https://www.tensorflow.org/api_docs/python/tf/placeholder).\n",
    "\n",
    "These names will be used at the end of the project to load your saved model.\n",
    "\n",
    "Note: `None` for shapes in TensorFlow allow for a dynamic size."
   ]
  },
  {
   "cell_type": "code",
   "execution_count": 11,
   "metadata": {
    "colab": {
     "base_uri": "https://localhost:8080/",
     "height": 67
    },
    "colab_type": "code",
    "id": "tn-gDZuvIHU-",
    "outputId": "beb790f4-cb3e-4261-f68b-4c442414058e"
   },
   "outputs": [
    {
     "name": "stdout",
     "output_type": "stream",
     "text": [
      "Image Input Tests Passed.\n",
      "Label Input Tests Passed.\n",
      "Keep Prob Tests Passed.\n"
     ]
    }
   ],
   "source": [
    "import tensorflow as tf\n",
    "\n",
    "def neural_net_image_input(image_shape):\n",
    "    \"\"\"\n",
    "    Return a Tensor for a batch of image input\n",
    "    : image_shape: Shape of the images\n",
    "    : return: Tensor for image input.\n",
    "    \"\"\"\n",
    "    # TODO: Implement Function\n",
    "    return tf.placeholder(dtype=tf.float32, shape=[None, *image_shape], name=\"x\")\n",
    "\n",
    "\n",
    "def neural_net_label_input(n_classes):\n",
    "    \"\"\"\n",
    "    Return a Tensor for a batch of label input\n",
    "    : n_classes: Number of classes\n",
    "    : return: Tensor for label input.\n",
    "    \"\"\"\n",
    "    # TODO: Implement Function\n",
    "    return tf.placeholder(dtype=tf.float32, shape=[None, n_classes], name=\"y\")\n",
    "\n",
    "\n",
    "def neural_net_keep_prob_input():\n",
    "    \"\"\"\n",
    "    Return a Tensor for keep probability\n",
    "    : return: Tensor for keep probability.\n",
    "    \"\"\"\n",
    "    # TODO: Implement Function\n",
    "    return tf.placeholder(dtype=tf.float32, name=\"keep_prob\")\n",
    "\n",
    "\n",
    "\"\"\"\n",
    "DON'T MODIFY ANYTHING IN THIS CELL THAT IS BELOW THIS LINE\n",
    "\"\"\"\n",
    "tf.reset_default_graph()\n",
    "tests.test_nn_image_inputs(neural_net_image_input)\n",
    "tests.test_nn_label_inputs(neural_net_label_input)\n",
    "tests.test_nn_keep_prob_inputs(neural_net_keep_prob_input)"
   ]
  },
  {
   "cell_type": "markdown",
   "metadata": {
    "colab_type": "text",
    "id": "dL_t83P3IHVI"
   },
   "source": [
    "### Convolution and Max Pooling Layer\n",
    "Convolution layers have a lot of success with images. For this code cell, you should implement the function `conv2d_maxpool` to apply convolution then max pooling:\n",
    "* Create the weight and bias using `conv_ksize`, `conv_num_outputs` and the shape of `x_tensor`.\n",
    "* Apply a convolution to `x_tensor` using weight and `conv_strides`.\n",
    " * We recommend you use same padding, but you're welcome to use any padding.\n",
    "* Add bias\n",
    "* Add a nonlinear activation to the convolution.\n",
    "* Apply Max Pooling using `pool_ksize` and `pool_strides`.\n",
    " * We recommend you use same padding, but you're welcome to use any padding.\n",
    "\n",
    "**Note:** You **can't** use [TensorFlow Layers](https://www.tensorflow.org/api_docs/python/tf/layers) or [TensorFlow Layers (contrib)](https://www.tensorflow.org/api_guides/python/contrib.layers) for **this** layer, but you can still use TensorFlow's [Neural Network](https://www.tensorflow.org/api_docs/python/tf/nn) package. You may still use the shortcut option for all the **other** layers.\n",
    "\n",
    "** Hint: **\n",
    "\n",
    "When unpacking values as an argument in Python, look into the [unpacking](https://docs.python.org/3/tutorial/controlflow.html#unpacking-argument-lists) operator. "
   ]
  },
  {
   "cell_type": "code",
   "execution_count": 12,
   "metadata": {
    "colab": {
     "base_uri": "https://localhost:8080/",
     "height": 34
    },
    "colab_type": "code",
    "id": "LnRu0jELIHVK",
    "outputId": "eddd9b3b-097d-4bd7-8767-0304b4d804c5"
   },
   "outputs": [
    {
     "name": "stdout",
     "output_type": "stream",
     "text": [
      "Tests Passed\n"
     ]
    }
   ],
   "source": [
    "def conv2d_maxpool(x_tensor, conv_num_outputs, conv_ksize, conv_strides, pool_ksize, pool_strides):\n",
    "    \"\"\"\n",
    "    Apply convolution then max pooling to x_tensor\n",
    "    :param x_tensor: TensorFlow Tensor\n",
    "    :param conv_num_outputs: Number of outputs for the convolutional layer\n",
    "    :param conv_ksize: kernal size 2-D Tuple for the convolutional layer\n",
    "    :param conv_strides: Stride 2-D Tuple for convolution\n",
    "    :param pool_ksize: kernal size 2-D Tuple for pool\n",
    "    :param pool_strides: Stride 2-D Tuple for pool\n",
    "    : return: A tensor that represents convolution and max pooling of x_tensor\n",
    "    \"\"\"\n",
    "    # TODO: Implement Function\n",
    "    weight = tf.Variable(tf.truncated_normal(shape=[*conv_ksize, int(x_tensor.get_shape()[3]), conv_num_outputs], \n",
    "                                             mean=0, stddev=0.1))\n",
    "    bias = tf.Variable(tf.zeros(shape=conv_num_outputs))\n",
    "    \n",
    "    conv_layer = tf.nn.conv2d(x_tensor, weight, strides=[1, *conv_strides, 1], padding=\"SAME\")\n",
    "    conv_layer = tf.nn.bias_add(conv_layer, bias=bias)\n",
    "    conv_layer = tf.nn.relu(conv_layer)\n",
    "    conv_layer = tf.nn.max_pool(conv_layer, ksize=[1, *pool_ksize, 1], strides=[1, *pool_strides, 1], padding=\"SAME\")\n",
    "    return conv_layer \n",
    "\n",
    "\n",
    "\"\"\"\n",
    "DON'T MODIFY ANYTHING IN THIS CELL THAT IS BELOW THIS LINE\n",
    "\"\"\"\n",
    "tests.test_con_pool(conv2d_maxpool)"
   ]
  },
  {
   "cell_type": "markdown",
   "metadata": {
    "colab_type": "text",
    "id": "6C-hSDYXIHVR"
   },
   "source": [
    "### Flatten Layer\n",
    "Implement the `flatten` function to change the dimension of `x_tensor` from a 4-D tensor to a 2-D tensor.  The output should be the shape (*Batch Size*, *Flattened Image Size*). Shortcut option: you can use classes from the [TensorFlow Layers](https://www.tensorflow.org/api_docs/python/tf/layers) or [TensorFlow Layers (contrib)](https://www.tensorflow.org/api_guides/python/contrib.layers) packages for this layer. For more of a challenge, only use other TensorFlow packages."
   ]
  },
  {
   "cell_type": "code",
   "execution_count": 13,
   "metadata": {
    "colab": {
     "base_uri": "https://localhost:8080/",
     "height": 34
    },
    "colab_type": "code",
    "id": "QmtFILWjIHVU",
    "outputId": "6a81d317-e6e3-4911-d02a-4d8ad37c7e40"
   },
   "outputs": [
    {
     "name": "stdout",
     "output_type": "stream",
     "text": [
      "Tests Passed\n"
     ]
    }
   ],
   "source": [
    "def flatten(x_tensor):\n",
    "    \"\"\"\n",
    "    Flatten x_tensor to (Batch Size, Flattened Image Size)\n",
    "    : x_tensor: A tensor of size (Batch Size, ...), where ... are the image dimensions.\n",
    "    : return: A tensor of size (Batch Size, Flattened Image Size).\n",
    "    \"\"\"\n",
    "    # TODO: Implement Function\n",
    "    shape_as_list = x_tensor.get_shape().as_list()\n",
    "    flatten_dim = 1\n",
    "    for dim in shape_as_list[1:]:\n",
    "        flatten_dim *= dim\n",
    "    \n",
    "    x_flatten = tf.reshape(x_tensor, shape=[-1, flatten_dim])\n",
    "    return x_flatten\n",
    "    \n",
    "\n",
    "\n",
    "\"\"\"\n",
    "DON'T MODIFY ANYTHING IN THIS CELL THAT IS BELOW THIS LINE\n",
    "\"\"\"\n",
    "tests.test_flatten(flatten)"
   ]
  },
  {
   "cell_type": "code",
   "execution_count": 0,
   "metadata": {
    "colab": {},
    "colab_type": "code",
    "collapsed": true,
    "id": "osB6OrPoIHVZ"
   },
   "outputs": [],
   "source": [
    "#x = tf.placeholder(tf.float32, [None, 128])\n",
    "#o = 40"
   ]
  },
  {
   "cell_type": "code",
   "execution_count": 0,
   "metadata": {
    "colab": {},
    "colab_type": "code",
    "collapsed": true,
    "id": "XG5ODiDUIHVz"
   },
   "outputs": [],
   "source": [
    "#dimensions = x.get_shape().as_list()\n",
    "#print(dimensions)"
   ]
  },
  {
   "cell_type": "code",
   "execution_count": 0,
   "metadata": {
    "colab": {},
    "colab_type": "code",
    "collapsed": true,
    "id": "MHzTiptOIHV3"
   },
   "outputs": [],
   "source": [
    "#shape = list((dimensions[-1],  ) + (o,  ))\n",
    "#print(shape)"
   ]
  },
  {
   "cell_type": "markdown",
   "metadata": {
    "colab_type": "text",
    "id": "iOPx9AWvIHV6"
   },
   "source": [
    "### Fully-Connected Layer\n",
    "Implement the `fully_conn` function to apply a fully connected layer to `x_tensor` with the shape (*Batch Size*, *num_outputs*). Shortcut option: you can use classes from the [TensorFlow Layers](https://www.tensorflow.org/api_docs/python/tf/layers) or [TensorFlow Layers (contrib)](https://www.tensorflow.org/api_guides/python/contrib.layers) packages for this layer. For more of a challenge, only use other TensorFlow packages."
   ]
  },
  {
   "cell_type": "code",
   "execution_count": 17,
   "metadata": {
    "colab": {
     "base_uri": "https://localhost:8080/",
     "height": 34
    },
    "colab_type": "code",
    "id": "-C6NtPKwIHV-",
    "outputId": "77c33cac-deaa-4d55-d5b7-74d0e2addf59"
   },
   "outputs": [
    {
     "name": "stdout",
     "output_type": "stream",
     "text": [
      "Tests Passed\n"
     ]
    }
   ],
   "source": [
    "def fully_conn(x_tensor, num_outputs):\n",
    "    \"\"\"\n",
    "    Apply a fully connected layer to x_tensor using weight and bias\n",
    "    : x_tensor: A 2-D tensor where the first dimension is batch size.\n",
    "    : num_outputs: The number of output that the new tensor should be.\n",
    "    : return: A 2-D tensor where the second dimension is num_outputs.\n",
    "    \"\"\"\n",
    "    # TODO: Implement Function\n",
    "    tensor_dim = x_tensor.get_shape().as_list()\n",
    "    shape = list((tensor_dim[-1], ) + (num_outputs, ))\n",
    "    weight = tf.Variable(tf.truncated_normal(shape, mean=0, stddev=0.1))\n",
    "    bias = tf.Variable(tf.zeros(num_outputs))\n",
    "    \n",
    "    x_fully_conn = tf.add(tf.matmul(x_tensor, weight), bias)\n",
    "    x_fully_conn = tf.nn.relu(x_fully_conn)\n",
    "    \n",
    "    \n",
    "    return x_fully_conn\n",
    "\n",
    "\n",
    "\"\"\"\n",
    "DON'T MODIFY ANYTHING IN THIS CELL THAT IS BELOW THIS LINE\n",
    "\"\"\"\n",
    "tests.test_fully_conn(fully_conn)"
   ]
  },
  {
   "cell_type": "markdown",
   "metadata": {
    "colab_type": "text",
    "id": "qjnwipmCIHWP"
   },
   "source": [
    "### Output Layer\n",
    "Implement the `output` function to apply a fully connected layer to `x_tensor` with the shape (*Batch Size*, *num_outputs*). Shortcut option: you can use classes from the [TensorFlow Layers](https://www.tensorflow.org/api_docs/python/tf/layers) or [TensorFlow Layers (contrib)](https://www.tensorflow.org/api_guides/python/contrib.layers) packages for this layer. For more of a challenge, only use other TensorFlow packages.\n",
    "\n",
    "**Note:** Activation, softmax, or cross entropy should **not** be applied to this."
   ]
  },
  {
   "cell_type": "code",
   "execution_count": 18,
   "metadata": {
    "colab": {
     "base_uri": "https://localhost:8080/",
     "height": 34
    },
    "colab_type": "code",
    "id": "MDW7RuJvIHWg",
    "outputId": "759f3b86-3f35-4c30-b8eb-f01e21bc0ded"
   },
   "outputs": [
    {
     "name": "stdout",
     "output_type": "stream",
     "text": [
      "Tests Passed\n"
     ]
    }
   ],
   "source": [
    "def output(x_tensor, num_outputs):\n",
    "    \"\"\"\n",
    "    Apply a output layer to x_tensor using weight and bias\n",
    "    : x_tensor: A 2-D tensor where the first dimension is batch size.\n",
    "    : num_outputs: The number of output that the new tensor should be.\n",
    "    : return: A 2-D tensor where the second dimension is num_outputs.\n",
    "    \"\"\"\n",
    "    # TODO: Implement Function\n",
    "    tensor_dim = x_tensor.get_shape().as_list()\n",
    "    shape = list((tensor_dim[-1], ) + (num_outputs, ))\n",
    "    weight = tf.Variable(tf.truncated_normal(shape, 0, 0.1))\n",
    "    bias = tf.Variable(tf.zeros(num_outputs))\n",
    "    \n",
    "    x_output = tf.add(tf.matmul(x_tensor, weight), bias)\n",
    "    return x_output\n",
    "\n",
    "\n",
    "\"\"\"\n",
    "DON'T MODIFY ANYTHING IN THIS CELL THAT IS BELOW THIS LINE\n",
    "\"\"\"\n",
    "tests.test_output(output)"
   ]
  },
  {
   "cell_type": "markdown",
   "metadata": {
    "colab_type": "text",
    "id": "S93VKwukIHWq"
   },
   "source": [
    "### Create Convolutional Model\n",
    "Implement the function `conv_net` to create a convolutional neural network model. The function takes in a batch of images, `x`, and outputs logits.  Use the layers you created above to create this model:\n",
    "\n",
    "* Apply 1, 2, or 3 Convolution and Max Pool layers\n",
    "* Apply a Flatten Layer\n",
    "* Apply 1, 2, or 3 Fully Connected Layers\n",
    "* Apply an Output Layer\n",
    "* Return the output\n",
    "* Apply [TensorFlow's Dropout](https://www.tensorflow.org/api_docs/python/tf/nn/dropout) to one or more layers in the model using `keep_prob`. "
   ]
  },
  {
   "cell_type": "code",
   "execution_count": 19,
   "metadata": {
    "colab": {
     "base_uri": "https://localhost:8080/",
     "height": 188
    },
    "colab_type": "code",
    "id": "S4i46fvGIHWs",
    "outputId": "1130cad5-0f16-46c2-dd4d-a5c1eab38aec"
   },
   "outputs": [
    {
     "name": "stdout",
     "output_type": "stream",
     "text": [
      "WARNING:tensorflow:From <ipython-input-19-7a162fa0f9e2>:72: softmax_cross_entropy_with_logits (from tensorflow.python.ops.nn_ops) is deprecated and will be removed in a future version.\n",
      "Instructions for updating:\n",
      "\n",
      "Future major versions of TensorFlow will allow gradients to flow\n",
      "into the labels input on backprop by default.\n",
      "\n",
      "See `tf.nn.softmax_cross_entropy_with_logits_v2`.\n",
      "\n",
      "Neural Network Built!\n"
     ]
    }
   ],
   "source": [
    "def conv_net(x, keep_prob):\n",
    "    \"\"\"\n",
    "    Create a convolutional neural network model\n",
    "    : x: Placeholder tensor that holds image data.\n",
    "    : keep_prob: Placeholder tensor that hold dropout keep probability.\n",
    "    : return: Tensor that represents logits\n",
    "    \"\"\"\n",
    "    # TODO: Apply 1, 2, or 3 Convolution and Max Pool layers\n",
    "    #    Play around with different number of outputs, kernel size and stride\n",
    "    # Function Definition from Above:\n",
    "    #    conv2d_maxpool(x_tensor, conv_num_outputs, conv_ksize, conv_strides, pool_ksize, pool_strides)\n",
    "    \n",
    "    cnn_model = conv2d_maxpool(x, conv_num_outputs=18, conv_ksize=(4, 4), conv_strides=(1, 1), \n",
    "                               pool_ksize=(8, 8), pool_strides=(1, 1))\n",
    "    \n",
    "    cnn_model = tf.nn.dropout(cnn_model, keep_prob=keep_prob)\n",
    "    \n",
    "    \n",
    "\n",
    "    # TODO: Apply a Flatten Layer\n",
    "    # Function Definition from Above:\n",
    "    #   flatten(x_tensor)\n",
    "    \n",
    "    cnn_model = flatten(cnn_model)\n",
    "    \n",
    "\n",
    "    # TODO: Apply 1, 2, or 3 Fully Connected Layers\n",
    "    #    Play around with different number of outputs\n",
    "    # Function Definition from Above:\n",
    "    #   fully_conn(x_tensor, num_outputs)\n",
    "    \n",
    "    cnn_model = fully_conn(cnn_model, 256)\n",
    "    \n",
    "    cnn_model = tf.nn.dropout(cnn_model, keep_prob=keep_prob)\n",
    "    \n",
    "    \n",
    "    # TODO: Apply an Output Layer\n",
    "    #    Set this to the number of classes\n",
    "    # Function Definition from Above:\n",
    "    #   output(x_tensor, num_outputs)\n",
    "    \n",
    "    cnn_model = output(cnn_model, 10)\n",
    "    \n",
    "    \n",
    "    # TODO: return output\n",
    "    return cnn_model\n",
    "\n",
    "\n",
    "\"\"\"\n",
    "DON'T MODIFY ANYTHING IN THIS CELL THAT IS BELOW THIS LINE\n",
    "\"\"\"\n",
    "\n",
    "##############################\n",
    "## Build the Neural Network ##\n",
    "##############################\n",
    "\n",
    "# Remove previous weights, bias, inputs, etc..\n",
    "tf.reset_default_graph()\n",
    "\n",
    "# Inputs\n",
    "x = neural_net_image_input((32, 32, 3))\n",
    "y = neural_net_label_input(10)\n",
    "keep_prob = neural_net_keep_prob_input()\n",
    "\n",
    "# Model\n",
    "logits = conv_net(x, keep_prob)\n",
    "\n",
    "# Name logits Tensor, so that is can be loaded from disk after training\n",
    "logits = tf.identity(logits, name='logits')\n",
    "\n",
    "# Loss and Optimizer\n",
    "cost = tf.reduce_mean(tf.nn.softmax_cross_entropy_with_logits(logits=logits, labels=y))\n",
    "optimizer = tf.train.AdamOptimizer().minimize(cost)\n",
    "\n",
    "# Accuracy\n",
    "correct_pred = tf.equal(tf.argmax(logits, 1), tf.argmax(y, 1))\n",
    "accuracy = tf.reduce_mean(tf.cast(correct_pred, tf.float32), name='accuracy')\n",
    "\n",
    "tests.test_conv_net(conv_net)"
   ]
  },
  {
   "cell_type": "markdown",
   "metadata": {
    "colab_type": "text",
    "id": "qqEFQjibIHW0"
   },
   "source": [
    "## Train the Neural Network\n",
    "### Single Optimization\n",
    "Implement the function `train_neural_network` to do a single optimization.  The optimization should use `optimizer` to optimize in `session` with a `feed_dict` of the following:\n",
    "* `x` for image input\n",
    "* `y` for labels\n",
    "* `keep_prob` for keep probability for dropout\n",
    "\n",
    "This function will be called for each batch, so `tf.global_variables_initializer()` has already been called.\n",
    "\n",
    "Note: Nothing needs to be returned. This function is only optimizing the neural network."
   ]
  },
  {
   "cell_type": "code",
   "execution_count": 20,
   "metadata": {
    "colab": {
     "base_uri": "https://localhost:8080/",
     "height": 34
    },
    "colab_type": "code",
    "id": "tra1Xsw1IHW1",
    "outputId": "1f77a44c-9761-450b-dbe3-e3de71f09a53"
   },
   "outputs": [
    {
     "name": "stdout",
     "output_type": "stream",
     "text": [
      "Tests Passed\n"
     ]
    }
   ],
   "source": [
    "def train_neural_network(session, optimizer, keep_probability, feature_batch, label_batch):\n",
    "    \"\"\"\n",
    "    Optimize the session on a batch of images and labels\n",
    "    : session: Current TensorFlow session\n",
    "    : optimizer: TensorFlow optimizer function\n",
    "    : keep_probability: keep probability\n",
    "    : feature_batch: Batch of Numpy image data\n",
    "    : label_batch: Batch of Numpy label data\n",
    "    \"\"\"\n",
    "    # TODO: Implement Function\n",
    "    #pass\n",
    "    session.run(optimizer, feed_dict = {x: feature_batch, y: label_batch, keep_prob: keep_probability})\n",
    "\n",
    "\n",
    "\"\"\"\n",
    "DON'T MODIFY ANYTHING IN THIS CELL THAT IS BELOW THIS LINE\n",
    "\"\"\"\n",
    "tests.test_train_nn(train_neural_network)"
   ]
  },
  {
   "cell_type": "markdown",
   "metadata": {
    "colab_type": "text",
    "id": "7aq8_Ne0IHW8"
   },
   "source": [
    "### Show Stats\n",
    "Implement the function `print_stats` to print loss and validation accuracy.  Use the global variables `valid_features` and `valid_labels` to calculate validation accuracy.  Use a keep probability of `1.0` to calculate the loss and validation accuracy."
   ]
  },
  {
   "cell_type": "code",
   "execution_count": 0,
   "metadata": {
    "colab": {},
    "colab_type": "code",
    "collapsed": true,
    "id": "t7htaitlIHW_"
   },
   "outputs": [],
   "source": [
    "def print_stats(session, feature_batch, label_batch, cost, accuracy):\n",
    "    \"\"\"\n",
    "    Print information about loss and validation accuracy\n",
    "    : session: Current TensorFlow session\n",
    "    : feature_batch: Batch of Numpy image data\n",
    "    : label_batch: Batch of Numpy label data\n",
    "    : cost: TensorFlow cost function\n",
    "    : accuracy: TensorFlow accuracy function\n",
    "    \"\"\"\n",
    "    # TODO: Implement Function\n",
    "    #pass\n",
    "    loss = session.run(cost, feed_dict = {x: feature_batch, y: label_batch, keep_prob: 1.})\n",
    "    valid_acc = session.run(accuracy, feed_dict = {x: valid_features, y: valid_labels, keep_prob: 1.})\n",
    "    \n",
    "    print('Loss: {:>10.4f} Validation Accuracy: {:.6f}'.format(loss, valid_acc))"
   ]
  },
  {
   "cell_type": "markdown",
   "metadata": {
    "colab_type": "text",
    "id": "u_tBjLzYIHXM"
   },
   "source": [
    "### Hyperparameters\n",
    "Tune the following parameters:\n",
    "* Set `epochs` to the number of iterations until the network stops learning or start overfitting\n",
    "* Set `batch_size` to the highest number that your machine has memory for.  Most people set them to common sizes of memory:\n",
    " * 64\n",
    " * 128\n",
    " * 256\n",
    " * ...\n",
    "* Set `keep_probability` to the probability of keeping a node using dropout"
   ]
  },
  {
   "cell_type": "code",
   "execution_count": 0,
   "metadata": {
    "colab": {},
    "colab_type": "code",
    "collapsed": true,
    "id": "kzWs1_9SIHXO"
   },
   "outputs": [],
   "source": [
    "# TODO: Tune Parameters\n",
    "epochs = 25\n",
    "batch_size = 128\n",
    "keep_probability = 0.8"
   ]
  },
  {
   "cell_type": "markdown",
   "metadata": {
    "colab_type": "text",
    "id": "4v3bhbzeIHXU"
   },
   "source": [
    "### Train on a Single CIFAR-10 Batch\n",
    "Instead of training the neural network on all the CIFAR-10 batches of data, let's use a single batch. This should save time while you iterate on the model to get a better accuracy.  Once the final validation accuracy is 50% or greater, run the model on all the data in the next section."
   ]
  },
  {
   "cell_type": "code",
   "execution_count": 23,
   "metadata": {
    "colab": {
     "base_uri": "https://localhost:8080/",
     "height": 454
    },
    "colab_type": "code",
    "id": "XfBkzg0iIHXV",
    "outputId": "5145464e-c50f-4c20-e894-1f55874702f4"
   },
   "outputs": [
    {
     "name": "stdout",
     "output_type": "stream",
     "text": [
      "Checking the Training on a Single Batch...\n",
      "Epoch  1, CIFAR-10 Batch 1:  Loss:     2.0297 Validation Accuracy: 0.327400\n",
      "Epoch  2, CIFAR-10 Batch 1:  Loss:     1.7437 Validation Accuracy: 0.438000\n",
      "Epoch  3, CIFAR-10 Batch 1:  Loss:     1.5017 Validation Accuracy: 0.491600\n",
      "Epoch  4, CIFAR-10 Batch 1:  Loss:     1.3031 Validation Accuracy: 0.513800\n",
      "Epoch  5, CIFAR-10 Batch 1:  Loss:     1.1210 Validation Accuracy: 0.538800\n",
      "Epoch  6, CIFAR-10 Batch 1:  Loss:     0.9728 Validation Accuracy: 0.542600\n",
      "Epoch  7, CIFAR-10 Batch 1:  Loss:     0.8598 Validation Accuracy: 0.560200\n",
      "Epoch  8, CIFAR-10 Batch 1:  Loss:     0.7754 Validation Accuracy: 0.557600\n",
      "Epoch  9, CIFAR-10 Batch 1:  Loss:     0.7111 Validation Accuracy: 0.575000\n",
      "Epoch 10, CIFAR-10 Batch 1:  Loss:     0.6800 Validation Accuracy: 0.583000\n",
      "Epoch 11, CIFAR-10 Batch 1:  Loss:     0.5959 Validation Accuracy: 0.577400\n",
      "Epoch 12, CIFAR-10 Batch 1:  Loss:     0.5264 Validation Accuracy: 0.587800\n",
      "Epoch 13, CIFAR-10 Batch 1:  Loss:     0.5098 Validation Accuracy: 0.586400\n",
      "Epoch 14, CIFAR-10 Batch 1:  Loss:     0.4458 Validation Accuracy: 0.587600\n",
      "Epoch 15, CIFAR-10 Batch 1:  Loss:     0.4234 Validation Accuracy: 0.586800\n",
      "Epoch 16, CIFAR-10 Batch 1:  Loss:     0.3410 Validation Accuracy: 0.584600\n",
      "Epoch 17, CIFAR-10 Batch 1:  Loss:     0.3242 Validation Accuracy: 0.584600\n",
      "Epoch 18, CIFAR-10 Batch 1:  Loss:     0.3471 Validation Accuracy: 0.556400\n",
      "Epoch 19, CIFAR-10 Batch 1:  Loss:     0.2696 Validation Accuracy: 0.568400\n",
      "Epoch 20, CIFAR-10 Batch 1:  Loss:     0.2573 Validation Accuracy: 0.594800\n",
      "Epoch 21, CIFAR-10 Batch 1:  Loss:     0.2212 Validation Accuracy: 0.590000\n",
      "Epoch 22, CIFAR-10 Batch 1:  Loss:     0.2173 Validation Accuracy: 0.587800\n",
      "Epoch 23, CIFAR-10 Batch 1:  Loss:     0.1685 Validation Accuracy: 0.578600\n",
      "Epoch 24, CIFAR-10 Batch 1:  Loss:     0.1998 Validation Accuracy: 0.585000\n",
      "Epoch 25, CIFAR-10 Batch 1:  Loss:     0.1324 Validation Accuracy: 0.596800\n"
     ]
    }
   ],
   "source": [
    "\"\"\"\n",
    "DON'T MODIFY ANYTHING IN THIS CELL\n",
    "\"\"\"\n",
    "print('Checking the Training on a Single Batch...')\n",
    "with tf.Session() as sess:\n",
    "    # Initializing the variables\n",
    "    sess.run(tf.global_variables_initializer())\n",
    "    \n",
    "    # Training cycle\n",
    "    for epoch in range(epochs):\n",
    "        batch_i = 1\n",
    "        for batch_features, batch_labels in helper.load_preprocess_training_batch(batch_i, batch_size):\n",
    "            train_neural_network(sess, optimizer, keep_probability, batch_features, batch_labels)\n",
    "        print('Epoch {:>2}, CIFAR-10 Batch {}:  '.format(epoch + 1, batch_i), end='')\n",
    "        print_stats(sess, batch_features, batch_labels, cost, accuracy)"
   ]
  },
  {
   "cell_type": "markdown",
   "metadata": {
    "colab_type": "text",
    "id": "VuEbignbIHX9"
   },
   "source": [
    "### Fully Train the Model\n",
    "Now that you got a good accuracy with a single CIFAR-10 batch, try it with all five batches."
   ]
  },
  {
   "cell_type": "code",
   "execution_count": 24,
   "metadata": {
    "colab": {
     "base_uri": "https://localhost:8080/",
     "height": 2134
    },
    "colab_type": "code",
    "id": "WQfNwlznIHX_",
    "outputId": "95705b38-b495-4f86-c6fc-577e7a68a134"
   },
   "outputs": [
    {
     "name": "stdout",
     "output_type": "stream",
     "text": [
      "Training...\n",
      "Epoch  1, CIFAR-10 Batch 1:  Loss:     1.8251 Validation Accuracy: 0.354000\n",
      "Epoch  1, CIFAR-10 Batch 2:  Loss:     1.5231 Validation Accuracy: 0.445000\n",
      "Epoch  1, CIFAR-10 Batch 3:  Loss:     1.3877 Validation Accuracy: 0.483600\n",
      "Epoch  1, CIFAR-10 Batch 4:  Loss:     1.4517 Validation Accuracy: 0.517600\n",
      "Epoch  1, CIFAR-10 Batch 5:  Loss:     1.3370 Validation Accuracy: 0.513800\n",
      "Epoch  2, CIFAR-10 Batch 1:  Loss:     1.3274 Validation Accuracy: 0.541000\n",
      "Epoch  2, CIFAR-10 Batch 2:  Loss:     1.2341 Validation Accuracy: 0.546600\n",
      "Epoch  2, CIFAR-10 Batch 3:  Loss:     1.1033 Validation Accuracy: 0.548800\n",
      "Epoch  2, CIFAR-10 Batch 4:  Loss:     1.3379 Validation Accuracy: 0.561200\n",
      "Epoch  2, CIFAR-10 Batch 5:  Loss:     1.1193 Validation Accuracy: 0.565000\n",
      "Epoch  3, CIFAR-10 Batch 1:  Loss:     1.1723 Validation Accuracy: 0.568000\n",
      "Epoch  3, CIFAR-10 Batch 2:  Loss:     1.0755 Validation Accuracy: 0.585400\n",
      "Epoch  3, CIFAR-10 Batch 3:  Loss:     0.9903 Validation Accuracy: 0.575400\n",
      "Epoch  3, CIFAR-10 Batch 4:  Loss:     1.1787 Validation Accuracy: 0.592800\n",
      "Epoch  3, CIFAR-10 Batch 5:  Loss:     0.9981 Validation Accuracy: 0.586200\n",
      "Epoch  4, CIFAR-10 Batch 1:  Loss:     1.1115 Validation Accuracy: 0.595200\n",
      "Epoch  4, CIFAR-10 Batch 2:  Loss:     0.9549 Validation Accuracy: 0.603600\n",
      "Epoch  4, CIFAR-10 Batch 3:  Loss:     0.9332 Validation Accuracy: 0.594400\n",
      "Epoch  4, CIFAR-10 Batch 4:  Loss:     1.0248 Validation Accuracy: 0.614400\n",
      "Epoch  4, CIFAR-10 Batch 5:  Loss:     0.8735 Validation Accuracy: 0.611200\n",
      "Epoch  5, CIFAR-10 Batch 1:  Loss:     0.9882 Validation Accuracy: 0.597400\n",
      "Epoch  5, CIFAR-10 Batch 2:  Loss:     0.8700 Validation Accuracy: 0.606200\n",
      "Epoch  5, CIFAR-10 Batch 3:  Loss:     0.8879 Validation Accuracy: 0.610200\n",
      "Epoch  5, CIFAR-10 Batch 4:  Loss:     0.9304 Validation Accuracy: 0.620000\n",
      "Epoch  5, CIFAR-10 Batch 5:  Loss:     0.8341 Validation Accuracy: 0.632800\n",
      "Epoch  6, CIFAR-10 Batch 1:  Loss:     0.8815 Validation Accuracy: 0.624800\n",
      "Epoch  6, CIFAR-10 Batch 2:  Loss:     0.7704 Validation Accuracy: 0.620000\n",
      "Epoch  6, CIFAR-10 Batch 3:  Loss:     0.8427 Validation Accuracy: 0.620800\n",
      "Epoch  6, CIFAR-10 Batch 4:  Loss:     0.8376 Validation Accuracy: 0.630000\n",
      "Epoch  6, CIFAR-10 Batch 5:  Loss:     0.7411 Validation Accuracy: 0.635400\n",
      "Epoch  7, CIFAR-10 Batch 1:  Loss:     0.9019 Validation Accuracy: 0.642600\n",
      "Epoch  7, CIFAR-10 Batch 2:  Loss:     0.7425 Validation Accuracy: 0.636600\n",
      "Epoch  7, CIFAR-10 Batch 3:  Loss:     0.6716 Validation Accuracy: 0.646600\n",
      "Epoch  7, CIFAR-10 Batch 4:  Loss:     0.7621 Validation Accuracy: 0.642400\n",
      "Epoch  7, CIFAR-10 Batch 5:  Loss:     0.6364 Validation Accuracy: 0.650400\n",
      "Epoch  8, CIFAR-10 Batch 1:  Loss:     0.7863 Validation Accuracy: 0.635800\n",
      "Epoch  8, CIFAR-10 Batch 2:  Loss:     0.6930 Validation Accuracy: 0.647800\n",
      "Epoch  8, CIFAR-10 Batch 3:  Loss:     0.7082 Validation Accuracy: 0.636200\n",
      "Epoch  8, CIFAR-10 Batch 4:  Loss:     0.7429 Validation Accuracy: 0.641600\n",
      "Epoch  8, CIFAR-10 Batch 5:  Loss:     0.6045 Validation Accuracy: 0.649400\n",
      "Epoch  9, CIFAR-10 Batch 1:  Loss:     0.7915 Validation Accuracy: 0.640400\n",
      "Epoch  9, CIFAR-10 Batch 2:  Loss:     0.6561 Validation Accuracy: 0.639600\n",
      "Epoch  9, CIFAR-10 Batch 3:  Loss:     0.6288 Validation Accuracy: 0.647800\n",
      "Epoch  9, CIFAR-10 Batch 4:  Loss:     0.7376 Validation Accuracy: 0.643000\n",
      "Epoch  9, CIFAR-10 Batch 5:  Loss:     0.5705 Validation Accuracy: 0.649200\n",
      "Epoch 10, CIFAR-10 Batch 1:  Loss:     0.7947 Validation Accuracy: 0.638800\n",
      "Epoch 10, CIFAR-10 Batch 2:  Loss:     0.6613 Validation Accuracy: 0.655400\n",
      "Epoch 10, CIFAR-10 Batch 3:  Loss:     0.6321 Validation Accuracy: 0.645800\n",
      "Epoch 10, CIFAR-10 Batch 4:  Loss:     0.7072 Validation Accuracy: 0.637200\n",
      "Epoch 10, CIFAR-10 Batch 5:  Loss:     0.5585 Validation Accuracy: 0.645600\n",
      "Epoch 11, CIFAR-10 Batch 1:  Loss:     0.7180 Validation Accuracy: 0.641800\n",
      "Epoch 11, CIFAR-10 Batch 2:  Loss:     0.5898 Validation Accuracy: 0.662000\n",
      "Epoch 11, CIFAR-10 Batch 3:  Loss:     0.6159 Validation Accuracy: 0.639400\n",
      "Epoch 11, CIFAR-10 Batch 4:  Loss:     0.6309 Validation Accuracy: 0.663000\n",
      "Epoch 11, CIFAR-10 Batch 5:  Loss:     0.5400 Validation Accuracy: 0.657000\n",
      "Epoch 12, CIFAR-10 Batch 1:  Loss:     0.6676 Validation Accuracy: 0.650800\n",
      "Epoch 12, CIFAR-10 Batch 2:  Loss:     0.6328 Validation Accuracy: 0.654200\n",
      "Epoch 12, CIFAR-10 Batch 3:  Loss:     0.5192 Validation Accuracy: 0.663000\n",
      "Epoch 12, CIFAR-10 Batch 4:  Loss:     0.6718 Validation Accuracy: 0.663000\n",
      "Epoch 12, CIFAR-10 Batch 5:  Loss:     0.4472 Validation Accuracy: 0.661400\n",
      "Epoch 13, CIFAR-10 Batch 1:  Loss:     0.6445 Validation Accuracy: 0.648400\n",
      "Epoch 13, CIFAR-10 Batch 2:  Loss:     0.6263 Validation Accuracy: 0.656800\n",
      "Epoch 13, CIFAR-10 Batch 3:  Loss:     0.4578 Validation Accuracy: 0.659400\n",
      "Epoch 13, CIFAR-10 Batch 4:  Loss:     0.5938 Validation Accuracy: 0.649000\n",
      "Epoch 13, CIFAR-10 Batch 5:  Loss:     0.4319 Validation Accuracy: 0.662200\n",
      "Epoch 14, CIFAR-10 Batch 1:  Loss:     0.6045 Validation Accuracy: 0.646400\n",
      "Epoch 14, CIFAR-10 Batch 2:  Loss:     0.5817 Validation Accuracy: 0.657200\n",
      "Epoch 14, CIFAR-10 Batch 3:  Loss:     0.4310 Validation Accuracy: 0.665400\n",
      "Epoch 14, CIFAR-10 Batch 4:  Loss:     0.5880 Validation Accuracy: 0.642600\n",
      "Epoch 14, CIFAR-10 Batch 5:  Loss:     0.4121 Validation Accuracy: 0.661600\n",
      "Epoch 15, CIFAR-10 Batch 1:  Loss:     0.5835 Validation Accuracy: 0.657200\n",
      "Epoch 15, CIFAR-10 Batch 2:  Loss:     0.4800 Validation Accuracy: 0.662200\n",
      "Epoch 15, CIFAR-10 Batch 3:  Loss:     0.4114 Validation Accuracy: 0.664000\n",
      "Epoch 15, CIFAR-10 Batch 4:  Loss:     0.5421 Validation Accuracy: 0.659400\n",
      "Epoch 15, CIFAR-10 Batch 5:  Loss:     0.4016 Validation Accuracy: 0.659200\n",
      "Epoch 16, CIFAR-10 Batch 1:  Loss:     0.5103 Validation Accuracy: 0.662000\n",
      "Epoch 16, CIFAR-10 Batch 2:  Loss:     0.5509 Validation Accuracy: 0.673600\n",
      "Epoch 16, CIFAR-10 Batch 3:  Loss:     0.3168 Validation Accuracy: 0.671200\n",
      "Epoch 16, CIFAR-10 Batch 4:  Loss:     0.5458 Validation Accuracy: 0.663800\n",
      "Epoch 16, CIFAR-10 Batch 5:  Loss:     0.3879 Validation Accuracy: 0.670600\n",
      "Epoch 17, CIFAR-10 Batch 1:  Loss:     0.4818 Validation Accuracy: 0.655400\n",
      "Epoch 17, CIFAR-10 Batch 2:  Loss:     0.4200 Validation Accuracy: 0.673600\n",
      "Epoch 17, CIFAR-10 Batch 3:  Loss:     0.3242 Validation Accuracy: 0.676400\n",
      "Epoch 17, CIFAR-10 Batch 4:  Loss:     0.5004 Validation Accuracy: 0.667200\n",
      "Epoch 17, CIFAR-10 Batch 5:  Loss:     0.3514 Validation Accuracy: 0.672400\n",
      "Epoch 18, CIFAR-10 Batch 1:  Loss:     0.5204 Validation Accuracy: 0.658200\n",
      "Epoch 18, CIFAR-10 Batch 2:  Loss:     0.4933 Validation Accuracy: 0.668200\n",
      "Epoch 18, CIFAR-10 Batch 3:  Loss:     0.3928 Validation Accuracy: 0.685200\n",
      "Epoch 18, CIFAR-10 Batch 4:  Loss:     0.4561 Validation Accuracy: 0.669800\n",
      "Epoch 18, CIFAR-10 Batch 5:  Loss:     0.3320 Validation Accuracy: 0.664200\n",
      "Epoch 19, CIFAR-10 Batch 1:  Loss:     0.4967 Validation Accuracy: 0.670200\n",
      "Epoch 19, CIFAR-10 Batch 2:  Loss:     0.4500 Validation Accuracy: 0.654200\n",
      "Epoch 19, CIFAR-10 Batch 3:  Loss:     0.3082 Validation Accuracy: 0.665800\n",
      "Epoch 19, CIFAR-10 Batch 4:  Loss:     0.4695 Validation Accuracy: 0.662200\n",
      "Epoch 19, CIFAR-10 Batch 5:  Loss:     0.3055 Validation Accuracy: 0.666200\n",
      "Epoch 20, CIFAR-10 Batch 1:  Loss:     0.4923 Validation Accuracy: 0.671200\n",
      "Epoch 20, CIFAR-10 Batch 2:  Loss:     0.4351 Validation Accuracy: 0.672800\n",
      "Epoch 20, CIFAR-10 Batch 3:  Loss:     0.3372 Validation Accuracy: 0.669200\n",
      "Epoch 20, CIFAR-10 Batch 4:  Loss:     0.4260 Validation Accuracy: 0.658600\n",
      "Epoch 20, CIFAR-10 Batch 5:  Loss:     0.2862 Validation Accuracy: 0.673400\n",
      "Epoch 21, CIFAR-10 Batch 1:  Loss:     0.4332 Validation Accuracy: 0.663000\n",
      "Epoch 21, CIFAR-10 Batch 2:  Loss:     0.3762 Validation Accuracy: 0.669600\n",
      "Epoch 21, CIFAR-10 Batch 3:  Loss:     0.3049 Validation Accuracy: 0.667400\n",
      "Epoch 21, CIFAR-10 Batch 4:  Loss:     0.3769 Validation Accuracy: 0.667200\n",
      "Epoch 21, CIFAR-10 Batch 5:  Loss:     0.2983 Validation Accuracy: 0.662200\n",
      "Epoch 22, CIFAR-10 Batch 1:  Loss:     0.3889 Validation Accuracy: 0.669200\n",
      "Epoch 22, CIFAR-10 Batch 2:  Loss:     0.3639 Validation Accuracy: 0.668600\n",
      "Epoch 22, CIFAR-10 Batch 3:  Loss:     0.2946 Validation Accuracy: 0.663800\n",
      "Epoch 22, CIFAR-10 Batch 4:  Loss:     0.3811 Validation Accuracy: 0.656000\n",
      "Epoch 22, CIFAR-10 Batch 5:  Loss:     0.2805 Validation Accuracy: 0.666800\n",
      "Epoch 23, CIFAR-10 Batch 1:  Loss:     0.3476 Validation Accuracy: 0.659800\n",
      "Epoch 23, CIFAR-10 Batch 2:  Loss:     0.3854 Validation Accuracy: 0.665800\n",
      "Epoch 23, CIFAR-10 Batch 3:  Loss:     0.2840 Validation Accuracy: 0.671000\n",
      "Epoch 23, CIFAR-10 Batch 4:  Loss:     0.3241 Validation Accuracy: 0.664400\n",
      "Epoch 23, CIFAR-10 Batch 5:  Loss:     0.2533 Validation Accuracy: 0.667000\n",
      "Epoch 24, CIFAR-10 Batch 1:  Loss:     0.3374 Validation Accuracy: 0.667000\n",
      "Epoch 24, CIFAR-10 Batch 2:  Loss:     0.3018 Validation Accuracy: 0.665800\n",
      "Epoch 24, CIFAR-10 Batch 3:  Loss:     0.2570 Validation Accuracy: 0.669400\n",
      "Epoch 24, CIFAR-10 Batch 4:  Loss:     0.3642 Validation Accuracy: 0.660600\n",
      "Epoch 24, CIFAR-10 Batch 5:  Loss:     0.2265 Validation Accuracy: 0.677800\n",
      "Epoch 25, CIFAR-10 Batch 1:  Loss:     0.3410 Validation Accuracy: 0.669800\n",
      "Epoch 25, CIFAR-10 Batch 2:  Loss:     0.3800 Validation Accuracy: 0.656400\n",
      "Epoch 25, CIFAR-10 Batch 3:  Loss:     0.2370 Validation Accuracy: 0.670000\n",
      "Epoch 25, CIFAR-10 Batch 4:  Loss:     0.3477 Validation Accuracy: 0.653600\n",
      "Epoch 25, CIFAR-10 Batch 5:  Loss:     0.2232 Validation Accuracy: 0.669400\n"
     ]
    }
   ],
   "source": [
    "\"\"\"\n",
    "DON'T MODIFY ANYTHING IN THIS CELL\n",
    "\"\"\"\n",
    "save_model_path = './image_classification'\n",
    "\n",
    "print('Training...')\n",
    "with tf.Session() as sess:\n",
    "    # Initializing the variables\n",
    "    sess.run(tf.global_variables_initializer())\n",
    "    \n",
    "    # Training cycle\n",
    "    for epoch in range(epochs):\n",
    "        # Loop over all batches\n",
    "        n_batches = 5\n",
    "        for batch_i in range(1, n_batches + 1):\n",
    "            for batch_features, batch_labels in helper.load_preprocess_training_batch(batch_i, batch_size):\n",
    "                train_neural_network(sess, optimizer, keep_probability, batch_features, batch_labels)\n",
    "            print('Epoch {:>2}, CIFAR-10 Batch {}:  '.format(epoch + 1, batch_i), end='')\n",
    "            print_stats(sess, batch_features, batch_labels, cost, accuracy)\n",
    "            \n",
    "    # Save Model\n",
    "    saver = tf.train.Saver()\n",
    "    save_path = saver.save(sess, save_model_path)"
   ]
  },
  {
   "cell_type": "markdown",
   "metadata": {
    "colab_type": "text",
    "id": "ZxTyq3eCIHYG"
   },
   "source": [
    "# Checkpoint\n",
    "The model has been saved to disk.\n",
    "## Test Model\n",
    "Test your model against the test dataset.  This will be your final accuracy. You should have an accuracy greater than 50%. If you don't, keep tweaking the model architecture and parameters."
   ]
  },
  {
   "cell_type": "code",
   "execution_count": 0,
   "metadata": {
    "colab": {},
    "colab_type": "code",
    "collapsed": true,
    "id": "JOouI1UzSk4J"
   },
   "outputs": [],
   "source": [
    "import helper"
   ]
  },
  {
   "cell_type": "code",
   "execution_count": 26,
   "metadata": {
    "colab": {
     "base_uri": "https://localhost:8080/",
     "height": 386
    },
    "colab_type": "code",
    "id": "J_MArmAJIHYS",
    "outputId": "a0b61e25-a179-4487-93df-52708f96655b"
   },
   "outputs": [
    {
     "name": "stdout",
     "output_type": "stream",
     "text": [
      "INFO:tensorflow:Restoring parameters from ./image_classification\n",
      "Testing Accuracy: 0.6697982594936709\n",
      "\n"
     ]
    },
    {
     "data": {
      "image/png": "[encoded data removed]",
      "text/plain": [
       "<Figure size 432x288 with 8 Axes>"
      ]
     },
     "metadata": {
      "image/png": {
       "height": 319,
       "width": 354
      },
      "tags": []
     },
     "output_type": "display_data"
    }
   ],
   "source": [
    "\"\"\"\n",
    "DON'T MODIFY ANYTHING IN THIS CELL\n",
    "\"\"\"\n",
    "%matplotlib inline\n",
    "%config InlineBackend.figure_format = 'retina'\n",
    "\n",
    "import tensorflow as tf\n",
    "import pickle\n",
    "import helper\n",
    "import random\n",
    "\n",
    "# Set batch size if not already set\n",
    "try:\n",
    "    if batch_size:\n",
    "        pass\n",
    "except NameError:\n",
    "    batch_size = 64\n",
    "\n",
    "save_model_path = './image_classification'\n",
    "n_samples = 4\n",
    "top_n_predictions = 3\n",
    "\n",
    "def test_model():\n",
    "    \"\"\"\n",
    "    Test the saved model against the test dataset\n",
    "    \"\"\"\n",
    "\n",
    "    test_features, test_labels = pickle.load(open('preprocess_training.p', mode='rb'))\n",
    "    loaded_graph = tf.Graph()\n",
    "\n",
    "    with tf.Session(graph=loaded_graph) as sess:\n",
    "        # Load model\n",
    "        loader = tf.train.import_meta_graph(save_model_path + '.meta')\n",
    "        loader.restore(sess, save_model_path)\n",
    "\n",
    "        # Get Tensors from loaded model\n",
    "        loaded_x = loaded_graph.get_tensor_by_name('x:0')\n",
    "        loaded_y = loaded_graph.get_tensor_by_name('y:0')\n",
    "        loaded_keep_prob = loaded_graph.get_tensor_by_name('keep_prob:0')\n",
    "        loaded_logits = loaded_graph.get_tensor_by_name('logits:0')\n",
    "        loaded_acc = loaded_graph.get_tensor_by_name('accuracy:0')\n",
    "        \n",
    "        # Get accuracy in batches for memory limitations\n",
    "        test_batch_acc_total = 0\n",
    "        test_batch_count = 0\n",
    "        \n",
    "        for train_feature_batch, train_label_batch in helper.batch_features_labels(test_features, test_labels, batch_size):\n",
    "            test_batch_acc_total += sess.run(\n",
    "                loaded_acc,\n",
    "                feed_dict={loaded_x: train_feature_batch, loaded_y: train_label_batch, loaded_keep_prob: 1.0})\n",
    "            test_batch_count += 1\n",
    "\n",
    "        print('Testing Accuracy: {}\\n'.format(test_batch_acc_total/test_batch_count))\n",
    "\n",
    "        # Print Random Samples\n",
    "        random_test_features, random_test_labels = tuple(zip(*random.sample(list(zip(test_features, test_labels)), n_samples)))\n",
    "        random_test_predictions = sess.run(\n",
    "            tf.nn.top_k(tf.nn.softmax(loaded_logits), top_n_predictions),\n",
    "            feed_dict={loaded_x: random_test_features, loaded_y: random_test_labels, loaded_keep_prob: 1.0})\n",
    "        helper.display_image_predictions(random_test_features, random_test_labels, random_test_predictions)\n",
    "\n",
    "\n",
    "test_model()"
   ]
  },
  {
   "cell_type": "markdown",
   "metadata": {
    "colab_type": "text",
    "id": "3vBkQTsjIHYq"
   },
   "source": [
    "## Why 50-80% Accuracy?\n",
    "You might be wondering why you can't get an accuracy any higher. First things first, 50% isn't bad for a simple CNN.  Pure guessing would get you 10% accuracy. That's because there are many more techniques that can be applied to your model and we recemmond that once you are done with this project, you explore!\n",
    "\n",
    "## Submitting This Project\n",
    "When submitting this project, make sure to run all the cells before saving the notebook.  Save the notebook file as \"image_classification.ipynb\" and save it as a HTML file under \"File\" -> \"Download as\".  Include the \"helper.py\" and \"problem_unittests.py\" files in your submission."
   ]
  },
  {
   "cell_type": "code",
   "execution_count": null,
   "metadata": {
    "collapsed": true
   },
   "outputs": [],
   "source": []
  }
 ],
 "metadata": {
  "accelerator": "GPU",
  "colab": {
   "name": "image_classification.ipynb",
   "provenance": [],
   "toc_visible": true,
   "version": "0.3.2"
  },
  "kernelspec": {
   "display_name": "Python 3",
   "language": "python",
   "name": "python3"
  },
  "language_info": {
   "codemirror_mode": {
    "name": "ipython",
    "version": 3
   },
   "file_extension": ".py",
   "mimetype": "text/x-python",
   "name": "python",
   "nbconvert_exporter": "python",
   "pygments_lexer": "ipython3",
   "version": "3.5.2"
  }
 },
 "nbformat": 4,
 "nbformat_minor": 1
}
